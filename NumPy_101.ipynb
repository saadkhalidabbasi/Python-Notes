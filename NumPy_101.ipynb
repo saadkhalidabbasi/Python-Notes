{
  "nbformat": 4,
  "nbformat_minor": 0,
  "metadata": {
    "colab": {
      "provenance": [],
      "include_colab_link": true
    },
    "kernelspec": {
      "name": "python3",
      "display_name": "Python 3"
    },
    "language_info": {
      "name": "python"
    }
  },
  "cells": [
    {
      "cell_type": "markdown",
      "metadata": {
        "id": "view-in-github",
        "colab_type": "text"
      },
      "source": [
        "<a href=\"https://colab.research.google.com/github/saadkhalidabbasi/Python-Notes/blob/master/NumPy_101.ipynb\" target=\"_parent\"><img src=\"https://colab.research.google.com/assets/colab-badge.svg\" alt=\"Open In Colab\"/></a>"
      ]
    },
    {
      "cell_type": "markdown",
      "source": [
        "# **Section 0- Introduction**"
      ],
      "metadata": {
        "id": "AvgSpC5aLpUB"
      }
    },
    {
      "cell_type": "markdown",
      "source": [
        "## **Installing Packages from Requirements Files**"
      ],
      "metadata": {
        "id": "LHlVINhLL_xY"
      }
    },
    {
      "cell_type": "markdown",
      "source": [
        "**Checking pip is installed or not ?**\n",
        "\n"
      ],
      "metadata": {
        "id": "SeDGYhhb-Y_b"
      }
    },
    {
      "cell_type": "code",
      "source": [
        "# In command line type\n",
        "!pip --version"
      ],
      "metadata": {
        "colab": {
          "base_uri": "https://localhost:8080/"
        },
        "id": "7vJShQvX-eLy",
        "outputId": "0be9e12b-4dcf-41bd-9daa-035a7eefac7b"
      },
      "execution_count": null,
      "outputs": [
        {
          "output_type": "stream",
          "name": "stdout",
          "text": [
            "pip 23.1.2 from /usr/local/lib/python3.10/dist-packages/pip (python 3.10)\n"
          ]
        }
      ]
    },
    {
      "cell_type": "markdown",
      "source": [
        "**Updating the pip :-**"
      ],
      "metadata": {
        "id": "C1bmd9nm-wID"
      }
    },
    {
      "cell_type": "code",
      "source": [
        "!pip install --upgrade pip"
      ],
      "metadata": {
        "colab": {
          "base_uri": "https://localhost:8080/"
        },
        "id": "xR-86VvM-yR6",
        "outputId": "4ad1c2d7-12ad-4075-e6e0-eafda458868a"
      },
      "execution_count": null,
      "outputs": [
        {
          "output_type": "stream",
          "name": "stdout",
          "text": [
            "Requirement already satisfied: pip in /usr/local/lib/python3.10/dist-packages (23.1.2)\n",
            "Collecting pip\n",
            "  Downloading pip-23.3-py3-none-any.whl (2.1 MB)\n",
            "\u001b[2K     \u001b[90m━━━━━━━━━━━━━━━━━━━━━━━━━━━━━━━━━━━━━━━━\u001b[0m \u001b[32m2.1/2.1 MB\u001b[0m \u001b[31m22.8 MB/s\u001b[0m eta \u001b[36m0:00:00\u001b[0m\n",
            "\u001b[?25hInstalling collected packages: pip\n",
            "  Attempting uninstall: pip\n",
            "    Found existing installation: pip 23.1.2\n",
            "    Uninstalling pip-23.1.2:\n",
            "      Successfully uninstalled pip-23.1.2\n",
            "Successfully installed pip-23.3\n"
          ]
        }
      ]
    },
    {
      "cell_type": "markdown",
      "source": [
        "**How to get help from pip ?**\n",
        "\n"
      ],
      "metadata": {
        "id": "hwIm69qF-7lK"
      }
    },
    {
      "cell_type": "code",
      "source": [
        "!pip help"
      ],
      "metadata": {
        "colab": {
          "base_uri": "https://localhost:8080/"
        },
        "id": "WTr9iJGm_AOq",
        "outputId": "09b527f0-2dde-4e53-f69e-04b08cdcac19"
      },
      "execution_count": null,
      "outputs": [
        {
          "output_type": "stream",
          "name": "stdout",
          "text": [
            "\n",
            "Usage:   \n",
            "  pip <command> [options]\n",
            "\n",
            "Commands:\n",
            "  install                     Install packages.\n",
            "  download                    Download packages.\n",
            "  uninstall                   Uninstall packages.\n",
            "  freeze                      Output installed packages in requirements format.\n",
            "  inspect                     Inspect the python environment.\n",
            "  list                        List installed packages.\n",
            "  show                        Show information about installed packages.\n",
            "  check                       Verify installed packages have compatible dependencies.\n",
            "  config                      Manage local and global configuration.\n",
            "  search                      Search PyPI for packages.\n",
            "  cache                       Inspect and manage pip's wheel cache.\n",
            "  index                       Inspect information available from package indexes.\n",
            "  wheel                       Build wheels from your requirements.\n",
            "  hash                        Compute hashes of package archives.\n",
            "  completion                  A helper command used for command completion.\n",
            "  debug                       Show information useful for debugging.\n",
            "  help                        Show help for commands.\n",
            "\n",
            "General Options:\n",
            "  -h, --help                  Show help.\n",
            "  --debug                     Let unhandled exceptions propagate outside the main subroutine,\n",
            "                              instead of logging them to stderr.\n",
            "  --isolated                  Run pip in an isolated mode, ignoring environment variables and user\n",
            "                              configuration.\n",
            "  --require-virtualenv        Allow pip to only run in a virtual environment; exit with an error\n",
            "                              otherwise.\n",
            "  --python <python>           Run pip with the specified Python interpreter.\n",
            "  -v, --verbose               Give more output. Option is additive, and can be used up to 3 times.\n",
            "  -V, --version               Show version and exit.\n",
            "  -q, --quiet                 Give less output. Option is additive, and can be used up to 3 times\n",
            "                              (corresponding to WARNING, ERROR, and CRITICAL logging levels).\n",
            "  --log <path>                Path to a verbose appending log.\n",
            "  --no-input                  Disable prompting for input.\n",
            "  --keyring-provider <keyring_provider>\n",
            "                              Enable the credential lookup via the keyring library if user input\n",
            "                              is allowed. Specify which mechanism to use [disabled, import,\n",
            "                              subprocess]. (default: disabled)\n",
            "  --proxy <proxy>             Specify a proxy in the form\n",
            "                              scheme://[user:passwd@]proxy.server:port.\n",
            "  --retries <retries>         Maximum number of retries each connection should attempt (default 5\n",
            "                              times).\n",
            "  --timeout <sec>             Set the socket timeout (default 15 seconds).\n",
            "  --exists-action <action>    Default action when a path already exists: (s)witch, (i)gnore,\n",
            "                              (w)ipe, (b)ackup, (a)bort.\n",
            "  --trusted-host <hostname>   Mark this host or host:port pair as trusted, even though it does not\n",
            "                              have valid or any HTTPS.\n",
            "  --cert <path>               Path to PEM-encoded CA certificate bundle. If provided, overrides\n",
            "                              the default. See 'SSL Certificate Verification' in pip documentation\n",
            "                              for more information.\n",
            "  --client-cert <path>        Path to SSL client certificate, a single file containing the private\n",
            "                              key and the certificate in PEM format.\n",
            "  --cache-dir <dir>           Store the cache data in <dir>.\n",
            "  --no-cache-dir              Disable the cache.\n",
            "  --disable-pip-version-check\n",
            "                              Don't periodically check PyPI to determine whether a new version of\n",
            "                              pip is available for download. Implied with --no-index.\n",
            "  --no-color                  Suppress colored output.\n",
            "  --no-python-version-warning\n",
            "                              Silence deprecation warnings for upcoming unsupported Pythons.\n",
            "  --use-feature <feature>     Enable new functionality, that may be backward incompatible.\n",
            "  --use-deprecated <feature>  Enable deprecated functionality, that will be removed in the future.\n"
          ]
        }
      ]
    },
    {
      "cell_type": "markdown",
      "source": [
        "**pip show command :**\n",
        "\n"
      ],
      "metadata": {
        "id": "SKx8tN3g_Hf5"
      }
    },
    {
      "cell_type": "code",
      "source": [
        "!pip show <package name>"
      ],
      "metadata": {
        "colab": {
          "base_uri": "https://localhost:8080/"
        },
        "id": "6ufeRJ95_Mmq",
        "outputId": "b1fcc108-5d56-4fe6-c9f1-a027515b34fb"
      },
      "execution_count": null,
      "outputs": [
        {
          "output_type": "stream",
          "name": "stdout",
          "text": [
            "/bin/bash: -c: line 1: syntax error near unexpected token `newline'\n",
            "/bin/bash: -c: line 1: `pip show <package name>'\n"
          ]
        }
      ]
    },
    {
      "cell_type": "markdown",
      "source": [
        "**Create a virtual environment.**"
      ],
      "metadata": {
        "id": "7ok_kcU8MRsU"
      }
    },
    {
      "cell_type": "code",
      "source": [
        "python -m venv new_project"
      ],
      "metadata": {
        "id": "iir97aX7MWPH"
      },
      "execution_count": null,
      "outputs": []
    },
    {
      "cell_type": "code",
      "source": [
        "#Windows\n",
        "new_project\\Scripts\\activate\n",
        "#macOS/Linux\n",
        "source new_project/bin/activate"
      ],
      "metadata": {
        "id": "-ixvysd1McKR"
      },
      "execution_count": null,
      "outputs": []
    },
    {
      "cell_type": "markdown",
      "source": [
        "And to finish up, you can run the deactivate command in the command prompt."
      ],
      "metadata": {
        "id": "I8zefqrdMjJX"
      }
    },
    {
      "cell_type": "markdown",
      "source": [
        "**Install Python Package**"
      ],
      "metadata": {
        "id": "wm_tXBiZMoBo"
      }
    },
    {
      "cell_type": "code",
      "source": [
        "pip install package_name"
      ],
      "metadata": {
        "id": "E5UkWcq0MsPe"
      },
      "execution_count": null,
      "outputs": []
    },
    {
      "cell_type": "markdown",
      "source": [
        "**Install Python Package Specific Version**\n",
        "\n"
      ],
      "metadata": {
        "id": "6TSfi0oDMuw5"
      }
    },
    {
      "cell_type": "code",
      "source": [
        "pip install package_name==1.2.3"
      ],
      "metadata": {
        "id": "9k0asodyMy1X"
      },
      "execution_count": null,
      "outputs": []
    },
    {
      "cell_type": "markdown",
      "source": [
        "**Install Python Package from the Requirements file**\n",
        "\n"
      ],
      "metadata": {
        "id": "vC1eCS8tM9q_"
      }
    },
    {
      "cell_type": "code",
      "source": [
        "pip install -r requirements.txt"
      ],
      "metadata": {
        "id": "PFamBXqNNG5q"
      },
      "execution_count": null,
      "outputs": []
    },
    {
      "cell_type": "markdown",
      "source": [
        "Make sure the text file is in the directory you were intended to. Usually in the project root. You can use the following command to have a requirements file from one environment to the other."
      ],
      "metadata": {
        "id": "EaxL0lh5NLl3"
      }
    },
    {
      "cell_type": "markdown",
      "source": [
        "**Installing Packages from Online repo :**\n",
        "\n"
      ],
      "metadata": {
        "id": "hDi43J0P_WGa"
      }
    },
    {
      "cell_type": "code",
      "source": [
        "1pip install Github repository URL"
      ],
      "metadata": {
        "id": "uqWt_oDl_ccy"
      },
      "execution_count": null,
      "outputs": []
    },
    {
      "cell_type": "code",
      "source": [
        "pip freeze > requirements.txt"
      ],
      "metadata": {
        "id": "vBflW86VNO4i"
      },
      "execution_count": null,
      "outputs": []
    },
    {
      "cell_type": "markdown",
      "source": [
        "**Install Python Package From the URL**\n",
        "\n"
      ],
      "metadata": {
        "id": "EBJz5ZCv_jrt"
      }
    },
    {
      "cell_type": "code",
      "source": [
        "1pip install git+https://github.com/username/repo_name.git"
      ],
      "metadata": {
        "id": "cBkj-E2b_tPx"
      },
      "execution_count": null,
      "outputs": []
    },
    {
      "cell_type": "markdown",
      "source": [
        "**Get Installed Package Information**\n",
        "\n"
      ],
      "metadata": {
        "id": "-zWRIfNZ_3Ly"
      }
    },
    {
      "cell_type": "code",
      "source": [
        "!pip show package_name"
      ],
      "metadata": {
        "colab": {
          "base_uri": "https://localhost:8080/"
        },
        "id": "7bcJkENy_7Ip",
        "outputId": "687cc1ce-0d2b-4a65-846d-dd534e075c59"
      },
      "execution_count": null,
      "outputs": [
        {
          "output_type": "stream",
          "name": "stdout",
          "text": [
            "\u001b[33mWARNING: Package(s) not found: package_name\u001b[0m\u001b[33m\n",
            "\u001b[0m"
          ]
        }
      ]
    },
    {
      "cell_type": "markdown",
      "source": [
        "**Get the List of All the Installed Packages**"
      ],
      "metadata": {
        "id": "jJAVunSrABfq"
      }
    },
    {
      "cell_type": "code",
      "source": [
        "!pip list"
      ],
      "metadata": {
        "colab": {
          "base_uri": "https://localhost:8080/"
        },
        "id": "SIp1e0RxAF8R",
        "outputId": "25eeea13-896e-43e3-8ab5-2fb28ca691cb"
      },
      "execution_count": null,
      "outputs": [
        {
          "output_type": "stream",
          "name": "stdout",
          "text": [
            "Package                          Version\n",
            "-------------------------------- ---------------------\n",
            "absl-py                          1.4.0\n",
            "aiohttp                          3.8.6\n",
            "aiosignal                        1.3.1\n",
            "alabaster                        0.7.13\n",
            "albumentations                   1.3.1\n",
            "altair                           4.2.2\n",
            "anyio                            3.7.1\n",
            "appdirs                          1.4.4\n",
            "argon2-cffi                      23.1.0\n",
            "argon2-cffi-bindings             21.2.0\n",
            "array-record                     0.4.1\n",
            "arviz                            0.15.1\n",
            "astropy                          5.3.4\n",
            "astunparse                       1.6.3\n",
            "async-timeout                    4.0.3\n",
            "atpublic                         4.0\n",
            "attrs                            23.1.0\n",
            "audioread                        3.0.1\n",
            "autograd                         1.6.2\n",
            "Babel                            2.13.0\n",
            "backcall                         0.2.0\n",
            "beautifulsoup4                   4.11.2\n",
            "bidict                           0.22.1\n",
            "bigframes                        0.8.0\n",
            "bleach                           6.1.0\n",
            "blinker                          1.4\n",
            "blis                             0.7.11\n",
            "blosc2                           2.0.0\n",
            "bokeh                            3.2.2\n",
            "bqplot                           0.12.40\n",
            "branca                           0.6.0\n",
            "build                            1.0.3\n",
            "CacheControl                     0.13.1\n",
            "cachetools                       5.3.1\n",
            "catalogue                        2.0.10\n",
            "certifi                          2023.7.22\n",
            "cffi                             1.16.0\n",
            "chardet                          5.2.0\n",
            "charset-normalizer               3.3.0\n",
            "chex                             0.1.7\n",
            "click                            8.1.7\n",
            "click-plugins                    1.1.1\n",
            "cligj                            0.7.2\n",
            "cloudpickle                      2.2.1\n",
            "cmake                            3.27.7\n",
            "cmdstanpy                        1.2.0\n",
            "colorcet                         3.0.1\n",
            "colorlover                       0.3.0\n",
            "colour                           0.1.5\n",
            "community                        1.0.0b1\n",
            "confection                       0.1.3\n",
            "cons                             0.4.6\n",
            "contextlib2                      21.6.0\n",
            "contourpy                        1.1.1\n",
            "cryptography                     41.0.4\n",
            "cufflinks                        0.17.3\n",
            "cupy-cuda11x                     11.0.0\n",
            "cvxopt                           1.3.2\n",
            "cvxpy                            1.3.2\n",
            "cycler                           0.12.1\n",
            "cymem                            2.0.8\n",
            "Cython                           3.0.3\n",
            "dask                             2023.8.1\n",
            "datascience                      0.17.6\n",
            "db-dtypes                        1.1.1\n",
            "dbus-python                      1.2.18\n",
            "debugpy                          1.6.6\n",
            "decorator                        4.4.2\n",
            "defusedxml                       0.7.1\n",
            "diskcache                        5.6.3\n",
            "distributed                      2023.8.1\n",
            "distro                           1.7.0\n",
            "dlib                             19.24.2\n",
            "dm-tree                          0.1.8\n",
            "docutils                         0.18.1\n",
            "dopamine-rl                      4.0.6\n",
            "duckdb                           0.8.1\n",
            "earthengine-api                  0.1.374\n",
            "easydict                         1.10\n",
            "ecos                             2.0.12\n",
            "editdistance                     0.6.2\n",
            "eerepr                           0.0.4\n",
            "en-core-web-sm                   3.6.0\n",
            "entrypoints                      0.4\n",
            "et-xmlfile                       1.1.0\n",
            "etils                            1.5.1\n",
            "etuples                          0.3.9\n",
            "exceptiongroup                   1.1.3\n",
            "fastai                           2.7.13\n",
            "fastcore                         1.5.29\n",
            "fastdownload                     0.0.7\n",
            "fastjsonschema                   2.18.1\n",
            "fastprogress                     1.0.3\n",
            "fastrlock                        0.8.2\n",
            "filelock                         3.12.4\n",
            "fiona                            1.9.5\n",
            "firebase-admin                   5.3.0\n",
            "Flask                            2.2.5\n",
            "flatbuffers                      23.5.26\n",
            "flax                             0.7.4\n",
            "folium                           0.14.0\n",
            "fonttools                        4.43.1\n",
            "frozendict                       2.3.8\n",
            "frozenlist                       1.4.0\n",
            "fsspec                           2023.6.0\n",
            "future                           0.18.3\n",
            "gast                             0.4.0\n",
            "gcsfs                            2023.6.0\n",
            "GDAL                             3.4.3\n",
            "gdown                            4.6.6\n",
            "geemap                           0.28.2\n",
            "gensim                           4.3.2\n",
            "geocoder                         1.38.1\n",
            "geographiclib                    2.0\n",
            "geopandas                        0.13.2\n",
            "geopy                            2.3.0\n",
            "gin-config                       0.5.0\n",
            "glob2                            0.7\n",
            "google                           2.0.3\n",
            "google-api-core                  2.11.1\n",
            "google-api-python-client         2.84.0\n",
            "google-auth                      2.17.3\n",
            "google-auth-httplib2             0.1.1\n",
            "google-auth-oauthlib             1.0.0\n",
            "google-cloud-bigquery            3.10.0\n",
            "google-cloud-bigquery-connection 1.12.1\n",
            "google-cloud-bigquery-storage    2.22.0\n",
            "google-cloud-core                2.3.3\n",
            "google-cloud-datastore           2.15.2\n",
            "google-cloud-firestore           2.11.1\n",
            "google-cloud-functions           1.13.3\n",
            "google-cloud-iam                 2.12.2\n",
            "google-cloud-language            2.9.1\n",
            "google-cloud-resource-manager    1.10.4\n",
            "google-cloud-storage             2.8.0\n",
            "google-cloud-translate           3.11.3\n",
            "google-colab                     1.0.0\n",
            "google-crc32c                    1.5.0\n",
            "google-pasta                     0.2.0\n",
            "google-resumable-media           2.6.0\n",
            "googleapis-common-protos         1.61.0\n",
            "googledrivedownloader            0.4\n",
            "graphviz                         0.20.1\n",
            "greenlet                         3.0.0\n",
            "grpc-google-iam-v1               0.12.6\n",
            "grpcio                           1.59.0\n",
            "grpcio-status                    1.48.2\n",
            "gspread                          3.4.2\n",
            "gspread-dataframe                3.3.1\n",
            "gym                              0.25.2\n",
            "gym-notices                      0.0.8\n",
            "h5netcdf                         1.2.0\n",
            "h5py                             3.9.0\n",
            "holidays                         0.35\n",
            "holoviews                        1.17.1\n",
            "html5lib                         1.1\n",
            "httpimport                       1.3.1\n",
            "httplib2                         0.22.0\n",
            "humanize                         4.7.0\n",
            "hyperopt                         0.2.7\n",
            "ibis-framework                   6.2.0\n",
            "idna                             3.4\n",
            "imageio                          2.31.5\n",
            "imageio-ffmpeg                   0.4.9\n",
            "imagesize                        1.4.1\n",
            "imbalanced-learn                 0.10.1\n",
            "imgaug                           0.4.0\n",
            "importlib-metadata               6.8.0\n",
            "importlib-resources              6.1.0\n",
            "imutils                          0.5.4\n",
            "inflect                          7.0.0\n",
            "iniconfig                        2.0.0\n",
            "install                          1.3.5\n",
            "intel-openmp                     2023.2.0\n",
            "ipyevents                        2.0.2\n",
            "ipyfilechooser                   0.6.0\n",
            "ipykernel                        5.5.6\n",
            "ipyleaflet                       0.17.4\n",
            "ipython                          7.34.0\n",
            "ipython-genutils                 0.2.0\n",
            "ipython-sql                      0.5.0\n",
            "ipytree                          0.2.2\n",
            "ipywidgets                       7.7.1\n",
            "itsdangerous                     2.1.2\n",
            "jax                              0.4.16\n",
            "jaxlib                           0.4.16+cuda11.cudnn86\n",
            "jeepney                          0.7.1\n",
            "jieba                            0.42.1\n",
            "Jinja2                           3.1.2\n",
            "joblib                           1.3.2\n",
            "jsonpickle                       3.0.2\n",
            "jsonschema                       4.19.1\n",
            "jsonschema-specifications        2023.7.1\n",
            "jupyter-client                   6.1.12\n",
            "jupyter-console                  6.1.0\n",
            "jupyter_core                     5.4.0\n",
            "jupyter-server                   1.24.0\n",
            "jupyterlab-pygments              0.2.2\n",
            "jupyterlab-widgets               3.0.9\n",
            "kaggle                           1.5.16\n",
            "keras                            2.13.1\n",
            "keyring                          23.5.0\n",
            "kiwisolver                       1.4.5\n",
            "langcodes                        3.3.0\n",
            "launchpadlib                     1.10.16\n",
            "lazr.restfulclient               0.14.4\n",
            "lazr.uri                         1.0.6\n",
            "lazy_loader                      0.3\n",
            "libclang                         16.0.6\n",
            "librosa                          0.10.1\n",
            "lida                             0.0.10\n",
            "lightgbm                         4.0.0\n",
            "linkify-it-py                    2.0.2\n",
            "lit                              17.0.2\n",
            "llmx                             0.0.15a0\n",
            "llvmlite                         0.39.1\n",
            "locket                           1.0.0\n",
            "logical-unification              0.4.6\n",
            "lxml                             4.9.3\n",
            "malloy                           2023.1056\n",
            "Markdown                         3.5\n",
            "markdown-it-py                   3.0.0\n",
            "MarkupSafe                       2.1.3\n",
            "matplotlib                       3.7.1\n",
            "matplotlib-inline                0.1.6\n",
            "matplotlib-venn                  0.11.9\n",
            "mdit-py-plugins                  0.4.0\n",
            "mdurl                            0.1.2\n",
            "miniKanren                       1.0.3\n",
            "missingno                        0.5.2\n",
            "mistune                          0.8.4\n",
            "mizani                           0.9.3\n",
            "mkl                              2023.2.0\n",
            "ml-dtypes                        0.3.1\n",
            "mlxtend                          0.22.0\n",
            "more-itertools                   10.1.0\n",
            "moviepy                          1.0.3\n",
            "mpmath                           1.3.0\n",
            "msgpack                          1.0.7\n",
            "multidict                        6.0.4\n",
            "multipledispatch                 1.0.0\n",
            "multitasking                     0.0.11\n",
            "murmurhash                       1.0.10\n",
            "music21                          9.1.0\n",
            "natsort                          8.4.0\n",
            "nbclassic                        1.0.0\n",
            "nbclient                         0.8.0\n",
            "nbconvert                        6.5.4\n",
            "nbformat                         5.9.2\n",
            "nest-asyncio                     1.5.8\n",
            "networkx                         3.1\n",
            "nibabel                          4.0.2\n",
            "nltk                             3.8.1\n",
            "notebook                         6.5.5\n",
            "notebook_shim                    0.2.3\n",
            "numba                            0.56.4\n",
            "numexpr                          2.8.7\n",
            "numpy                            1.23.5\n",
            "oauth2client                     4.1.3\n",
            "oauthlib                         3.2.2\n",
            "opencv-contrib-python            4.8.0.76\n",
            "opencv-python                    4.8.0.76\n",
            "opencv-python-headless           4.8.1.78\n",
            "openpyxl                         3.1.2\n",
            "opt-einsum                       3.3.0\n",
            "optax                            0.1.7\n",
            "orbax-checkpoint                 0.4.1\n",
            "osqp                             0.6.2.post8\n",
            "packaging                        23.2\n",
            "pandas                           1.5.3\n",
            "pandas-datareader                0.10.0\n",
            "pandas-gbq                       0.17.9\n",
            "pandas-stubs                     1.5.3.230304\n",
            "pandocfilters                    1.5.0\n",
            "panel                            1.2.3\n",
            "param                            1.13.0\n",
            "parso                            0.8.3\n",
            "parsy                            2.1\n",
            "partd                            1.4.1\n",
            "pathlib                          1.0.1\n",
            "pathy                            0.10.2\n",
            "patsy                            0.5.3\n",
            "peewee                           3.17.0\n",
            "pexpect                          4.8.0\n",
            "pickleshare                      0.7.5\n",
            "Pillow                           9.4.0\n",
            "pip                              23.3\n",
            "pip-tools                        6.13.0\n",
            "platformdirs                     3.11.0\n",
            "plotly                           5.15.0\n",
            "plotnine                         0.12.3\n",
            "pluggy                           1.3.0\n",
            "polars                           0.17.3\n",
            "pooch                            1.7.0\n",
            "portpicker                       1.5.2\n",
            "prefetch-generator               1.0.3\n",
            "preshed                          3.0.9\n",
            "prettytable                      3.9.0\n",
            "proglog                          0.1.10\n",
            "progressbar2                     4.2.0\n",
            "prometheus-client                0.17.1\n",
            "promise                          2.3\n",
            "prompt-toolkit                   3.0.39\n",
            "prophet                          1.1.5\n",
            "proto-plus                       1.22.3\n",
            "protobuf                         3.20.3\n",
            "psutil                           5.9.5\n",
            "psycopg2                         2.9.9\n",
            "ptyprocess                       0.7.0\n",
            "py-cpuinfo                       9.0.0\n",
            "py4j                             0.10.9.7\n",
            "pyarrow                          9.0.0\n",
            "pyasn1                           0.5.0\n",
            "pyasn1-modules                   0.3.0\n",
            "pycocotools                      2.0.7\n",
            "pycparser                        2.21\n",
            "pyct                             0.5.0\n",
            "pydantic                         1.10.13\n",
            "pydata-google-auth               1.8.2\n",
            "pydot                            1.4.2\n",
            "pydot-ng                         2.0.0\n",
            "pydotplus                        2.0.2\n",
            "PyDrive                          1.3.1\n",
            "PyDrive2                         1.6.3\n",
            "pyerfa                           2.0.1\n",
            "pygame                           2.5.2\n",
            "Pygments                         2.16.1\n",
            "PyGObject                        3.42.1\n",
            "PyJWT                            2.3.0\n",
            "pymc                             5.7.2\n",
            "pymystem3                        0.2.0\n",
            "PyOpenGL                         3.1.7\n",
            "pyOpenSSL                        23.2.0\n",
            "pyparsing                        3.1.1\n",
            "pyperclip                        1.8.2\n",
            "pyproj                           3.6.1\n",
            "pyproject_hooks                  1.0.0\n",
            "pyshp                            2.3.1\n",
            "PySocks                          1.7.1\n",
            "pytensor                         2.14.2\n",
            "pytest                           7.4.2\n",
            "python-apt                       0.0.0\n",
            "python-box                       7.1.1\n",
            "python-dateutil                  2.8.2\n",
            "python-louvain                   0.16\n",
            "python-slugify                   8.0.1\n",
            "python-utils                     3.8.1\n",
            "pytz                             2023.3.post1\n",
            "pyviz_comms                      3.0.0\n",
            "PyWavelets                       1.4.1\n",
            "PyYAML                           6.0.1\n",
            "pyzmq                            23.2.1\n",
            "qdldl                            0.1.7.post0\n",
            "qudida                           0.0.4\n",
            "ratelim                          0.1.6\n",
            "referencing                      0.30.2\n",
            "regex                            2023.6.3\n",
            "requests                         2.31.0\n",
            "requests-oauthlib                1.3.1\n",
            "requirements-parser              0.5.0\n",
            "rich                             13.6.0\n",
            "rpds-py                          0.10.6\n",
            "rpy2                             3.4.2\n",
            "rsa                              4.9\n",
            "scikit-image                     0.19.3\n",
            "scikit-learn                     1.2.2\n",
            "scipy                            1.11.3\n",
            "scooby                           0.7.4\n",
            "scs                              3.2.3\n",
            "seaborn                          0.12.2\n",
            "SecretStorage                    3.3.1\n",
            "Send2Trash                       1.8.2\n",
            "setuptools                       67.7.2\n",
            "shapely                          2.0.2\n",
            "six                              1.16.0\n",
            "sklearn-pandas                   2.2.0\n",
            "smart-open                       6.4.0\n",
            "sniffio                          1.3.0\n",
            "snowballstemmer                  2.2.0\n",
            "sortedcontainers                 2.4.0\n",
            "soundfile                        0.12.1\n",
            "soupsieve                        2.5\n",
            "soxr                             0.3.7\n",
            "spacy                            3.6.1\n",
            "spacy-legacy                     3.0.12\n",
            "spacy-loggers                    1.0.5\n",
            "Sphinx                           5.0.2\n",
            "sphinxcontrib-applehelp          1.0.7\n",
            "sphinxcontrib-devhelp            1.0.5\n",
            "sphinxcontrib-htmlhelp           2.0.4\n",
            "sphinxcontrib-jsmath             1.0.1\n",
            "sphinxcontrib-qthelp             1.0.6\n",
            "sphinxcontrib-serializinghtml    1.1.9\n",
            "SQLAlchemy                       2.0.22\n",
            "sqlglot                          17.16.2\n",
            "sqlparse                         0.4.4\n",
            "srsly                            2.4.8\n",
            "stanio                           0.3.0\n",
            "statsmodels                      0.14.0\n",
            "sympy                            1.12\n",
            "tables                           3.8.0\n",
            "tabulate                         0.9.0\n",
            "tbb                              2021.10.0\n",
            "tblib                            2.0.0\n",
            "tenacity                         8.2.3\n",
            "tensorboard                      2.13.0\n",
            "tensorboard-data-server          0.7.1\n",
            "tensorflow                       2.13.0\n",
            "tensorflow-datasets              4.9.3\n",
            "tensorflow-estimator             2.13.0\n",
            "tensorflow-gcs-config            2.13.0\n",
            "tensorflow-hub                   0.15.0\n",
            "tensorflow-io-gcs-filesystem     0.34.0\n",
            "tensorflow-metadata              1.14.0\n",
            "tensorflow-probability           0.20.1\n",
            "tensorstore                      0.1.45\n",
            "termcolor                        2.3.0\n",
            "terminado                        0.17.1\n",
            "text-unidecode                   1.3\n",
            "textblob                         0.17.1\n",
            "tf-slim                          1.1.0\n",
            "thinc                            8.1.12\n",
            "threadpoolctl                    3.2.0\n",
            "tifffile                         2023.9.26\n",
            "tinycss2                         1.2.1\n",
            "toml                             0.10.2\n",
            "tomli                            2.0.1\n",
            "toolz                            0.12.0\n",
            "torch                            2.0.1+cu118\n",
            "torchaudio                       2.0.2+cu118\n",
            "torchdata                        0.6.1\n",
            "torchsummary                     1.5.1\n",
            "torchtext                        0.15.2\n",
            "torchvision                      0.15.2+cu118\n",
            "tornado                          6.3.2\n",
            "tqdm                             4.66.1\n",
            "traitlets                        5.7.1\n",
            "traittypes                       0.2.1\n",
            "triton                           2.0.0\n",
            "tweepy                           4.13.0\n",
            "typer                            0.9.0\n",
            "types-pytz                       2023.3.1.1\n",
            "types-setuptools                 68.2.0.0\n",
            "typing_extensions                4.5.0\n",
            "tzlocal                          5.1\n",
            "uc-micro-py                      1.0.2\n",
            "uritemplate                      4.1.1\n",
            "urllib3                          2.0.6\n",
            "vega-datasets                    0.9.0\n",
            "wadllib                          1.3.6\n",
            "wasabi                           1.1.2\n",
            "wcwidth                          0.2.8\n",
            "webcolors                        1.13\n",
            "webencodings                     0.5.1\n",
            "websocket-client                 1.6.4\n",
            "Werkzeug                         3.0.0\n",
            "wheel                            0.41.2\n",
            "widgetsnbextension               3.6.6\n",
            "wordcloud                        1.9.2\n",
            "wrapt                            1.15.0\n",
            "xarray                           2023.7.0\n",
            "xarray-einstats                  0.6.0\n",
            "xgboost                          2.0.0\n",
            "xlrd                             2.0.1\n",
            "xxhash                           3.4.1\n",
            "xyzservices                      2023.10.0\n",
            "yarl                             1.9.2\n",
            "yellowbrick                      1.5\n",
            "yfinance                         0.2.31\n",
            "zict                             3.0.0\n",
            "zipp                             3.17.0\n"
          ]
        }
      ]
    },
    {
      "cell_type": "markdown",
      "source": [
        "**Uninstall Python Package**\n",
        "\n"
      ],
      "metadata": {
        "id": "JdC6vUloNWU_"
      }
    },
    {
      "cell_type": "code",
      "source": [
        "pip install --upgrade package_name"
      ],
      "metadata": {
        "id": "jcB8VBWPNaSg"
      },
      "execution_count": null,
      "outputs": []
    },
    {
      "cell_type": "code",
      "source": [
        "pip uninstall package_name"
      ],
      "metadata": {
        "id": "uTwp2FzLNgDa"
      },
      "execution_count": null,
      "outputs": []
    },
    {
      "cell_type": "markdown",
      "source": [
        "**Get Installed Package Information**\n",
        "\n",
        "\n"
      ],
      "metadata": {
        "id": "U4DP_jbLNjRe"
      }
    },
    {
      "cell_type": "code",
      "source": [
        "pip show package_name"
      ],
      "metadata": {
        "id": "DkXeHaWtNnNe"
      },
      "execution_count": null,
      "outputs": []
    },
    {
      "cell_type": "markdown",
      "source": [
        "**Get the List of All the Installed Packages**\n",
        "\n"
      ],
      "metadata": {
        "id": "h2KiQyKINptG"
      }
    },
    {
      "cell_type": "code",
      "source": [
        "!pip list"
      ],
      "metadata": {
        "id": "uduUCBOBNtpW"
      },
      "execution_count": null,
      "outputs": []
    },
    {
      "cell_type": "markdown",
      "source": [
        "**outdated or not the current version.**"
      ],
      "metadata": {
        "id": "sT_s86QkN2Sk"
      }
    },
    {
      "cell_type": "code",
      "source": [
        "pip list --outdated"
      ],
      "metadata": {
        "id": "zaMKEZmoN85S"
      },
      "execution_count": null,
      "outputs": []
    },
    {
      "cell_type": "markdown",
      "source": [
        "# **Table of Content**"
      ],
      "metadata": {
        "id": "L2c1EIl6e0-b"
      }
    },
    {
      "cell_type": "markdown",
      "source": [
        "\n",
        "\n",
        "1.   📚 Array Creation\n",
        "2.   📚 Basic Operation on NumPay Array\n",
        "3.   📚 Basic Mathematic Operations\n",
        "4.   📚 Statistical Analysis\n",
        "5.   📚 Linear Algebra\n",
        "6.   📚 Data Cleaning\n",
        "\n"
      ],
      "metadata": {
        "id": "344x1LzWyd8K"
      }
    },
    {
      "cell_type": "markdown",
      "source": [
        "#**📚Section 1-Array Creation**\n",
        "\n",
        "NumPy stands for ‘Numerical Python’. It is an open-source Python library used to perform various mathematical and scientific tasks.NumPy is one of the very first libraries in Python that makes your numerical computations easy and efficient. This course will get you acquainted (familiarize) with NumPy. It contains multi-dimensional arrays and matrices, along with many high-lev[link text](https://)"
      ],
      "metadata": {
        "id": "RLwXpfoFfD69"
      }
    },
    {
      "cell_type": "markdown",
      "source": [
        "**Table of Content**"
      ],
      "metadata": {
        "id": "tPpT7aOfz2x0"
      }
    },
    {
      "cell_type": "markdown",
      "source": [
        "\n",
        "\n",
        "1.   📚 Installing NumPy\n",
        "2.   📚 Creating NumPy\n",
        "\n",
        " 2.1 📚 Creating Numpy with Array Method\n",
        "\n",
        " 2.2 📚 Conversion from other Python structures\n",
        "\n",
        "\n",
        "\n"
      ],
      "metadata": {
        "id": "X6wU6Dtsz-Ga"
      }
    },
    {
      "cell_type": "markdown",
      "source": [
        "##**1.1: Installing NumPy**"
      ],
      "metadata": {
        "id": "hU2fTryOGEEV"
      }
    },
    {
      "cell_type": "markdown",
      "source": [
        "**How to Install Numpy?**"
      ],
      "metadata": {
        "id": "1Em_GmIwfQZ1"
      }
    },
    {
      "cell_type": "code",
      "source": [
        "!pip install numpy"
      ],
      "metadata": {
        "colab": {
          "base_uri": "https://localhost:8080/"
        },
        "id": "cGZRkk99fS3i",
        "outputId": "3216a85f-1fac-439d-f2b1-03d0d72caa6f"
      },
      "execution_count": null,
      "outputs": [
        {
          "output_type": "stream",
          "name": "stdout",
          "text": [
            "Requirement already satisfied: numpy in /usr/local/lib/python3.10/dist-packages (1.23.5)\n"
          ]
        }
      ]
    },
    {
      "cell_type": "markdown",
      "source": [
        "**Import NumPy**"
      ],
      "metadata": {
        "id": "qxnyTMsNHVhC"
      }
    },
    {
      "cell_type": "code",
      "source": [
        "print(\"Hello to the Numpy\")"
      ],
      "metadata": {
        "id": "GudkkJrRt46h",
        "outputId": "39b7aac2-607f-45d6-cd57-fd1966061163",
        "colab": {
          "base_uri": "https://localhost:8080/"
        }
      },
      "execution_count": null,
      "outputs": [
        {
          "output_type": "stream",
          "name": "stdout",
          "text": [
            "Hello to the Numpy\n"
          ]
        }
      ]
    },
    {
      "cell_type": "code",
      "source": [
        "import numpy as np"
      ],
      "metadata": {
        "id": "HQ7JdzuMfmT7"
      },
      "execution_count": null,
      "outputs": []
    },
    {
      "cell_type": "code",
      "source": [
        "conda install numpy"
      ],
      "metadata": {
        "id": "RWjkLehNGa46"
      },
      "execution_count": null,
      "outputs": []
    },
    {
      "cell_type": "markdown",
      "source": [
        "**Virtual environment**"
      ],
      "metadata": {
        "id": "0WrsV1yFGfA3"
      }
    },
    {
      "cell_type": "code",
      "source": [
        "# create the virtual environment\n",
        "python3 -m venv venv\n",
        "\n",
        "# activate the virtual environment\n",
        "source venv/bin/activate\n",
        "\n",
        "# upgrade pip package manager\n",
        "pip3 install --upgrade pip\n",
        "\n",
        "#install numpy\n",
        "pip3 install numpy"
      ],
      "metadata": {
        "colab": {
          "base_uri": "https://localhost:8080/",
          "height": 140
        },
        "id": "hk20wKnbGkM3",
        "outputId": "1e3ea504-2f0e-44de-d506-947289331e7e"
      },
      "execution_count": null,
      "outputs": [
        {
          "output_type": "error",
          "ename": "SyntaxError",
          "evalue": "ignored",
          "traceback": [
            "\u001b[0;36m  File \u001b[0;32m\"<ipython-input-9-3559d4d58963>\"\u001b[0;36m, line \u001b[0;32m2\u001b[0m\n\u001b[0;31m    python3 -m venv venv\u001b[0m\n\u001b[0m               ^\u001b[0m\n\u001b[0;31mSyntaxError\u001b[0m\u001b[0;31m:\u001b[0m invalid syntax\n"
          ]
        }
      ]
    },
    {
      "cell_type": "markdown",
      "source": [
        "**How to import NumPy?**"
      ],
      "metadata": {
        "id": "CmQ_EPPwGqev"
      }
    },
    {
      "cell_type": "code",
      "source": [
        "import numpy as np"
      ],
      "metadata": {
        "id": "Czv1qKr4GvWm"
      },
      "execution_count": null,
      "outputs": []
    },
    {
      "cell_type": "markdown",
      "source": [
        "## **1.2- Creating NumPy Array**"
      ],
      "metadata": {
        "id": "J5fkbewyHJfR"
      }
    },
    {
      "cell_type": "markdown",
      "source": [
        "##### **1.2.1- Creating NumPy Array with Array method**"
      ],
      "metadata": {
        "id": "WJXg9RVihY4b"
      }
    },
    {
      "cell_type": "markdown",
      "source": [
        "**Single Dimension Array**"
      ],
      "metadata": {
        "id": "hbZwY4KUHzbA"
      }
    },
    {
      "cell_type": "code",
      "source": [
        "import numpy as np\n",
        "a = np.array([2,3,4])\n",
        "b = np.array([2.0,3.5,4.4])"
      ],
      "metadata": {
        "id": "xeR1LIuDIfPk"
      },
      "execution_count": null,
      "outputs": []
    },
    {
      "cell_type": "code",
      "source": [
        "print(\"The data type of a is:\",a.dtype)\n",
        "print(\"The data type of b is:\",b.dtype)"
      ],
      "metadata": {
        "colab": {
          "base_uri": "https://localhost:8080/"
        },
        "id": "6jCTdbj6IiUo",
        "outputId": "8dcf6609-3b29-4025-fdc9-252a6d3ab1e9"
      },
      "execution_count": null,
      "outputs": [
        {
          "output_type": "stream",
          "name": "stdout",
          "text": [
            "The data type of a is: int64\n",
            "The data type of b is: float64\n"
          ]
        }
      ]
    },
    {
      "cell_type": "markdown",
      "source": [
        "**Creating 2D Array or Matrices**\n"
      ],
      "metadata": {
        "id": "SOwe3s1Hhis2"
      }
    },
    {
      "cell_type": "code",
      "source": [
        "import numpy as np\n",
        "\n",
        "# Create a 2D NumPy array with 2 rows and 2 columns\n",
        "arr2D = np.array([[1, 2], [4, 5]])\n",
        "\n",
        "# Print the array\n",
        "print(arr2D)"
      ],
      "metadata": {
        "colab": {
          "base_uri": "https://localhost:8080/"
        },
        "id": "PGoAZegdimyu",
        "outputId": "a993492c-d9d5-428c-fcda-9419a1014363"
      },
      "execution_count": null,
      "outputs": [
        {
          "output_type": "stream",
          "name": "stdout",
          "text": [
            "[[1 2]\n",
            " [4 5]]\n"
          ]
        }
      ]
    },
    {
      "cell_type": "code",
      "source": [
        "#complex 2D Array\n",
        "c=np.array([[1,2],[3,4]], dtype= complex)\n",
        "print(c)"
      ],
      "metadata": {
        "id": "pL-bH-AYk-uU",
        "outputId": "b974f13e-742d-480b-dacf-dc81ae1b1f4b",
        "colab": {
          "base_uri": "https://localhost:8080/"
        }
      },
      "execution_count": null,
      "outputs": [
        {
          "output_type": "stream",
          "name": "stdout",
          "text": [
            "[[1.+0.j 2.+0.j]\n",
            " [3.+0.j 4.+0.j]]\n"
          ]
        }
      ]
    },
    {
      "cell_type": "markdown",
      "source": [
        "**Array full of zero and full of ones and Random numbers**"
      ],
      "metadata": {
        "id": "TxBN5TJVj0qe"
      }
    },
    {
      "cell_type": "code",
      "source": [
        "oArray = np.zeros((3,4))\n",
        "oneArray = np.ones((3,4))\n",
        "print(oArray)\n",
        "print(oneArray)"
      ],
      "metadata": {
        "colab": {
          "base_uri": "https://localhost:8080/"
        },
        "id": "QjOcEiL-j4jO",
        "outputId": "14ffea87-9416-42e8-d43d-3d4bc893bd0a"
      },
      "execution_count": null,
      "outputs": [
        {
          "output_type": "stream",
          "name": "stdout",
          "text": [
            "[[0. 0. 0. 0.]\n",
            " [0. 0. 0. 0.]\n",
            " [0. 0. 0. 0.]]\n",
            "[[1. 1. 1. 1.]\n",
            " [1. 1. 1. 1.]\n",
            " [1. 1. 1. 1.]]\n"
          ]
        }
      ]
    },
    {
      "cell_type": "code",
      "source": [
        "\n",
        "Arrrand = np.random.random(3)\n",
        "print(Arrrand)"
      ],
      "metadata": {
        "colab": {
          "base_uri": "https://localhost:8080/"
        },
        "id": "Q6kpoKqMjs06",
        "outputId": "6a54c789-86f8-4626-ab83-2293318f0b0e"
      },
      "execution_count": null,
      "outputs": [
        {
          "output_type": "stream",
          "name": "stdout",
          "text": [
            "[0.07721194 0.81039761 0.80214133]\n"
          ]
        }
      ]
    },
    {
      "cell_type": "markdown",
      "source": [
        "**Empty Array in Numpy**\n"
      ],
      "metadata": {
        "id": "sJytidlukGvO"
      }
    },
    {
      "cell_type": "code",
      "source": [
        "oArray = np.zeros((3,4))\n",
        "oneArray = np.ones((3,4))\n",
        "print(oArray)\n",
        "print(oneArray)"
      ],
      "metadata": {
        "id": "esKPc6hZkxMF",
        "outputId": "b4ddbbbd-3de2-4be3-9107-d1d19ef1d3ff",
        "colab": {
          "base_uri": "https://localhost:8080/"
        }
      },
      "execution_count": null,
      "outputs": [
        {
          "output_type": "stream",
          "name": "stdout",
          "text": [
            "[[0. 0. 0. 0.]\n",
            " [0. 0. 0. 0.]\n",
            " [0. 0. 0. 0.]]\n",
            "[[1. 1. 1. 1.]\n",
            " [1. 1. 1. 1.]\n",
            " [1. 1. 1. 1.]]\n"
          ]
        }
      ]
    },
    {
      "cell_type": "code",
      "source": [
        "\n",
        "emptyArray=np.empty"
      ],
      "metadata": {
        "id": "XIwuvMRRk27c"
      },
      "execution_count": null,
      "outputs": []
    },
    {
      "cell_type": "markdown",
      "source": [
        "##### **1.2.2- Conversion from other Python structures**"
      ],
      "metadata": {
        "id": "_cfI9S0m42WO"
      }
    },
    {
      "cell_type": "code",
      "source": [
        "array_list = np.array([1, 2, 3])\n",
        "array_tuple = np.array(((1, 2, 3), (4, 5, 6)))\n",
        "array_set = np.array({\"pikachu\", \"snorlax\", \"charizard\"})"
      ],
      "metadata": {
        "id": "Cg9H2HOZ4-RR"
      },
      "execution_count": null,
      "outputs": []
    },
    {
      "cell_type": "markdown",
      "source": [
        "### **Use of Special Library Function**"
      ],
      "metadata": {
        "id": "c31k5YNO04VY"
      }
    },
    {
      "cell_type": "markdown",
      "source": [
        "NumPy has a large list of special cases functions that generate arrays, which are too large and seemingly disconnected to enumerate. Here are a few examples:"
      ],
      "metadata": {
        "id": "nF-wtQxN1Eft"
      }
    },
    {
      "cell_type": "code",
      "source": [
        "# diagonal array\n",
        "diagonal = np.diag([1, 2, 3], k=0)\n",
        "\n",
        "# identity\n",
        "identity = np.identity(3)\n",
        "\n",
        "# eye\n",
        "eye = np.eye(4, k=1)\n",
        "\n",
        "# rand\n",
        "rand = np.random.rand(3,2)\n"
      ],
      "metadata": {
        "collapsed": true,
        "id": "Jc1o1Dky1Bxa"
      },
      "execution_count": null,
      "outputs": []
    },
    {
      "cell_type": "code",
      "source": [
        "print(f'Diagonal matrix from array-like structure:\\n{diagonal}\\n')\n",
        "print(f'Identity matrix:\\n{identity}\\n')\n",
        "print(f'Diagonal matrix with ones and zeros elsewhere:\\n{eye}\\n')\n",
        "print(f'Array of random numbers sampled from a uniform distribution:\\n{rand}')"
      ],
      "metadata": {
        "id": "5-K0b3DM2pkJ",
        "outputId": "b567e6c1-9124-4ab2-a9bd-6630d3d09ab8",
        "colab": {
          "base_uri": "https://localhost:8080/"
        }
      },
      "execution_count": 6,
      "outputs": [
        {
          "output_type": "stream",
          "name": "stdout",
          "text": [
            "Diagonal matrix from array-like structure:\n",
            "[[1 0 0]\n",
            " [0 2 0]\n",
            " [0 0 3]]\n",
            "\n",
            "Identity matrix:\n",
            "[[1. 0. 0.]\n",
            " [0. 1. 0.]\n",
            " [0. 0. 1.]]\n",
            "\n",
            "Diagonal matrix with ones and zeros elsewhere:\n",
            "[[0. 1. 0. 0.]\n",
            " [0. 0. 1. 0.]\n",
            " [0. 0. 0. 1.]\n",
            " [0. 0. 0. 0.]]\n",
            "\n",
            "Array of random numbers sampled from a uniform distribution:\n",
            "[[0.33434968 0.65584555]\n",
            " [0.00968158 0.92594849]\n",
            " [0.16759017 0.57404106]]\n"
          ]
        }
      ]
    },
    {
      "cell_type": "markdown",
      "source": [
        "### **An array with a constant**"
      ],
      "metadata": {
        "id": "dWUjFJuJ2yeX"
      }
    },
    {
      "cell_type": "code",
      "source": [
        "# Creating a constant array\n",
        "arr_c = np.full((2,2), 7)\n",
        "print(arr_c)"
      ],
      "metadata": {
        "id": "RRF25D4j22ro",
        "outputId": "b70a08e3-65bf-4721-bd9f-9f4f81036ed0",
        "colab": {
          "base_uri": "https://localhost:8080/"
        }
      },
      "execution_count": 7,
      "outputs": [
        {
          "output_type": "stream",
          "name": "stdout",
          "text": [
            "[[7 7]\n",
            " [7 7]]\n"
          ]
        }
      ]
    },
    {
      "cell_type": "markdown",
      "source": [
        "### **Creating an array with start value, end value and number of values**"
      ],
      "metadata": {
        "id": "dWGTfE9E2-PO"
      }
    },
    {
      "cell_type": "code",
      "source": [
        "arr_L = np.linspace(0, 5,7)\n",
        "print(arr_L)\n",
        "#observe here dtype('float64')"
      ],
      "metadata": {
        "id": "jPygfRbR3Anb",
        "outputId": "ed0bcc3a-3219-42ed-cf1e-e5ace2e40e41",
        "colab": {
          "base_uri": "https://localhost:8080/"
        }
      },
      "execution_count": 8,
      "outputs": [
        {
          "output_type": "stream",
          "name": "stdout",
          "text": [
            "[0.         0.83333333 1.66666667 2.5        3.33333333 4.16666667\n",
            " 5.        ]\n"
          ]
        }
      ]
    },
    {
      "cell_type": "markdown",
      "source": [
        "### **Creating an array with start value, end value and number of values(datatypes int)**"
      ],
      "metadata": {
        "id": "_hjG31If3Su6"
      }
    },
    {
      "cell_type": "code",
      "source": [
        "arr_a=np.arange(1, 10,1)\n",
        "print(arr_a)\n",
        "#here dtype('int32')"
      ],
      "metadata": {
        "id": "Y0D_IzMr3U_L",
        "outputId": "9d0f269f-0929-44e0-b446-0f179ca5b75f",
        "colab": {
          "base_uri": "https://localhost:8080/"
        }
      },
      "execution_count": 9,
      "outputs": [
        {
          "output_type": "stream",
          "name": "stdout",
          "text": [
            "[1 2 3 4 5 6 7 8 9]\n"
          ]
        }
      ]
    },
    {
      "cell_type": "markdown",
      "source": [
        "### **An array filled with random integers**\n"
      ],
      "metadata": {
        "id": "nhodryLG3hpA"
      }
    },
    {
      "cell_type": "code",
      "source": [
        "arr_1= np.random.randint(10,100,7)\n",
        "print(arr_1)"
      ],
      "metadata": {
        "id": "2L0EFb1Z3j-3",
        "outputId": "a0675128-8c8c-4e18-94da-16380614e465",
        "colab": {
          "base_uri": "https://localhost:8080/"
        }
      },
      "execution_count": 10,
      "outputs": [
        {
          "output_type": "stream",
          "name": "stdout",
          "text": [
            "[43 60 13 63 46 95 54]\n"
          ]
        }
      ]
    },
    {
      "cell_type": "markdown",
      "source": [
        "### **An array filled with random values(which follows Normal Distribution)**\n"
      ],
      "metadata": {
        "id": "KWLHnxWq3p1v"
      }
    },
    {
      "cell_type": "code",
      "source": [
        "arr_n= np.random.randn(10)\n",
        "print(arr_n)"
      ],
      "metadata": {
        "id": "pF6u3NXP3t6m",
        "outputId": "12af04b8-92e4-4a87-d908-abd493069e26",
        "colab": {
          "base_uri": "https://localhost:8080/"
        }
      },
      "execution_count": 11,
      "outputs": [
        {
          "output_type": "stream",
          "name": "stdout",
          "text": [
            "[-1.52378948 -0.1743775   1.479895    0.10271934  0.90654494 -0.42533973\n",
            "  0.06759782  1.26611259 -1.27700556 -1.86179845]\n"
          ]
        }
      ]
    },
    {
      "cell_type": "markdown",
      "source": [
        "### **Creating a 2x2 identity matrix**\n"
      ],
      "metadata": {
        "id": "Y3buA1DV32j4"
      }
    },
    {
      "cell_type": "code",
      "source": [
        "#  Create a 2x2 identity matrix\n",
        "arr_I = np.eye(2)\n",
        "print(arr_I)"
      ],
      "metadata": {
        "id": "YHsIhtbl36fV",
        "outputId": "d567558e-c356-4917-c2ed-ce60c7e2ede5",
        "colab": {
          "base_uri": "https://localhost:8080/"
        }
      },
      "execution_count": 12,
      "outputs": [
        {
          "output_type": "stream",
          "name": "stdout",
          "text": [
            "[[1. 0.]\n",
            " [0. 1.]]\n"
          ]
        }
      ]
    },
    {
      "cell_type": "markdown",
      "source": [
        "### **Creating Arrays from existing data**\n",
        "This is useful for converting Python sequence into ndarray. numpy.asarray(a, dtype=None ,order = None)"
      ],
      "metadata": {
        "id": "W8S_5DMS4HKH"
      }
    },
    {
      "cell_type": "code",
      "source": [
        "#converting list to ndarray\n",
        "import numpy as np\n",
        "x = [1,2,3]\n",
        "a = np.asarray(x)\n",
        "print (a)\n",
        "\n",
        "\n",
        "# ndarray from tuple\n",
        "x_1 = (1,2,3)\n",
        "a_1 = np.asarray(x_1)\n",
        "print (a_1)\n",
        "\n",
        "# ndarray from list of tuples\n",
        "import numpy as np\n",
        "x_2 = [(1,2,3),(4,5,6)]\n",
        "a_2 = np.asarray(x_2)\n",
        "print (a_2)\n",
        "\n",
        "#  .Important Arrays attributes\n",
        "# arr.shape :It returns a tuple listing the length of the array along each dimension.\n",
        "import numpy as np\n",
        "arr = np.array([[1,2,3],[4,5,6]])\n",
        "print (arr.shape)\n",
        "\n",
        "\n",
        "#resizing the above array\n",
        "a = np.array([[1,2,3],[4,5,6]])\n",
        "a.shape = (3,2)\n",
        "print (a)\n",
        "\n",
        "\n",
        "a = np.array([[1,2,3],[4,5,6]])\n",
        "b = a.reshape(3,2)\n",
        "print (b)"
      ],
      "metadata": {
        "id": "mxdJ-uNE4M80",
        "outputId": "66eba020-bd32-4172-fb98-79e5f4e4e03a",
        "colab": {
          "base_uri": "https://localhost:8080/"
        }
      },
      "execution_count": 14,
      "outputs": [
        {
          "output_type": "stream",
          "name": "stdout",
          "text": [
            "[1 2 3]\n",
            "[1 2 3]\n",
            "[[1 2 3]\n",
            " [4 5 6]]\n",
            "(2, 3)\n",
            "[[1 2]\n",
            " [3 4]\n",
            " [5 6]]\n",
            "[[1 2]\n",
            " [3 4]\n",
            " [5 6]]\n"
          ]
        }
      ]
    },
    {
      "cell_type": "markdown",
      "source": [
        "#**📚Section 2-The Basics operations on Numpy Array**\n",
        "NumPy’s main object is the homogeneous multidimensional array. It is a table of elements (usually numbers), all of the\n",
        "same type, indexed by a tuple of non-negative integers. In NumPy dimensions are called axes.\n",
        "For example, the array for the coordinates of a point in 3D space, [1, 2, 1], has one axis. That axis has 3 elements\n",
        "in it, so we say it has a length of 3. In the example pictured below, the array has 2 axes. The first axis has a length of 2,\n",
        "the second axis has a length of 3.\n",
        "[[1., 0., 0.],\n",
        "[0., 1., 2.]]\n",
        "NumPy’s array class is called ndarray. It is also known by the alias array. Note that numpy.array is not the\n",
        "same as the Standard Python Library class array.array, which only"
      ],
      "metadata": {
        "id": "TuIFR11HiUmK"
      }
    },
    {
      "cell_type": "code",
      "source": [
        "import numpy as np"
      ],
      "metadata": {
        "id": "ExA8lruyBmBf"
      },
      "execution_count": null,
      "outputs": []
    },
    {
      "cell_type": "code",
      "source": [
        "# Creating 1D NumPy arrays\n",
        "arr1 = np.array([1, 2, 3])\n",
        "arr2 = np.array([4, 5, 6])\n",
        "scalar = 2"
      ],
      "metadata": {
        "id": "V_Hr2JL1cGHf"
      },
      "execution_count": null,
      "outputs": []
    },
    {
      "cell_type": "code",
      "source": [
        "# Creating a 1D array (Vector)\n",
        "arr_1d = np.array([1, 2, 3])\n",
        "# Dimesion: 1 , Shape: (3,), Size: 3\n",
        "print(f\"Dimension: {arr_1d.ndim}, Shape: {arr_1d.shape}, size: {arr_1d.size}\")\n",
        "\n",
        "# Creating a 2D array (Matrix) # Dimension: 2 , Shape: (2, 3)\n",
        "arr_2d = np.array([[1, 2, 3], [4, 5, 6]])\n",
        "\n",
        "# Creating a 3D array (Tensor) # Dimension: 3 , Shape: (2, 2, 2)\n",
        "arr_3d = np.array([[[1, 2], [3, 4]], [[5, 6], [7, 8]]])"
      ],
      "metadata": {
        "colab": {
          "base_uri": "https://localhost:8080/"
        },
        "id": "MvnIsOIQcbaw",
        "outputId": "32f68314-6924-4727-947e-cfa279a5a8e0"
      },
      "execution_count": null,
      "outputs": [
        {
          "output_type": "stream",
          "name": "stdout",
          "text": [
            "Dimension: 1, Shape: (3,), size: 3\n"
          ]
        }
      ]
    },
    {
      "cell_type": "markdown",
      "source": [
        "### **4.1-Array Shape and Size:**"
      ],
      "metadata": {
        "id": "3Ctq8hE5K0gN"
      }
    },
    {
      "cell_type": "markdown",
      "source": [
        "\n",
        "**ndarray.ndim**\n",
        "\n",
        "the number of axes (dimensions) of the array.\n",
        "\n",
        "**ndarray.shape**\n",
        "\n",
        "the dimensions of the array. This is a tuple of integers indicating the size of the array in each dimension. For a\n",
        "matrix with n rows and m columns, shape will be (n,m). The length of the shape tuple is therefore the number of axes, ndim.\n",
        "\n",
        "**ndarray.size**\n",
        "\n",
        "the total number of elements of the array. This is equal to the product of the elements of shape.\n",
        "\n",
        "**ndarray.dtype**\n",
        "\n",
        "an object describing the type of the elements in the array. One can create or specify dtype’s using standard Python\n",
        "types. Additionally NumPy provides types of its own. numpy.int32, numpy.int16, and numpy.float64 are some\n",
        "examples.\n",
        "\n",
        "**ndarray.itemsize**\n",
        "\n",
        "the size in bytes of each element of the array. For example, an array of elements of type float64 has itemsize\n",
        "8 (=64/8), while one of type complex32 has itemsize 4 (=32/8). It is equivalent to ndarray.dtype.\n",
        "\n",
        "**itemsize.**\n",
        "\n",
        "ndarray.data\n",
        "the buffer containing the actual elements of the array. Normally, we won’t need to use this attribute because we\n",
        "will access the elements in an array using indexing facilities.\n"
      ],
      "metadata": {
        "id": "DMQHKx5ig_TD"
      }
    },
    {
      "cell_type": "markdown",
      "source": [
        "**An example**\n"
      ],
      "metadata": {
        "id": "zGCRH2O7g_gr"
      }
    },
    {
      "cell_type": "code",
      "source": [
        "import numpy as np\n",
        "arr = np.arange(15).reshape(3, 5)\n",
        "# Arange function will create 15 points from 0 to 14 and then reshape will reshape it accordingly\n"
      ],
      "metadata": {
        "id": "G1kxfmaijN7a"
      },
      "execution_count": null,
      "outputs": []
    },
    {
      "cell_type": "code",
      "source": [
        "arr"
      ],
      "metadata": {
        "colab": {
          "base_uri": "https://localhost:8080/"
        },
        "id": "RSbQiIVRgAxQ",
        "outputId": "363dfed4-e85b-4e60-9470-35bdd6526245"
      },
      "execution_count": null,
      "outputs": [
        {
          "output_type": "execute_result",
          "data": {
            "text/plain": [
              "array([[ 0,  1,  2,  3,  4],\n",
              "       [ 5,  6,  7,  8,  9],\n",
              "       [10, 11, 12, 13, 14]])"
            ]
          },
          "metadata": {},
          "execution_count": 4
        }
      ]
    },
    {
      "cell_type": "code",
      "source": [
        "print(arr.shape)"
      ],
      "metadata": {
        "id": "F3ClKsPphVYX",
        "colab": {
          "base_uri": "https://localhost:8080/"
        },
        "outputId": "a7b3fcc8-4e8f-45e9-b670-d37d325c82e2"
      },
      "execution_count": null,
      "outputs": [
        {
          "output_type": "stream",
          "name": "stdout",
          "text": [
            "(3, 5)\n"
          ]
        }
      ]
    },
    {
      "cell_type": "code",
      "source": [
        "print(arr.ndim)"
      ],
      "metadata": {
        "colab": {
          "base_uri": "https://localhost:8080/"
        },
        "id": "YJEwJExEj6G5",
        "outputId": "746c0d45-c21c-48d6-8ba2-5237203f7092"
      },
      "execution_count": null,
      "outputs": [
        {
          "output_type": "stream",
          "name": "stdout",
          "text": [
            "2\n"
          ]
        }
      ]
    },
    {
      "cell_type": "code",
      "source": [
        "print(arr.dtype.name)"
      ],
      "metadata": {
        "colab": {
          "base_uri": "https://localhost:8080/"
        },
        "id": "TvyxWmNjj_Oo",
        "outputId": "90e96b79-bbcf-4c95-9010-14545b733944"
      },
      "execution_count": null,
      "outputs": [
        {
          "output_type": "stream",
          "name": "stdout",
          "text": [
            "int64\n"
          ]
        }
      ]
    },
    {
      "cell_type": "code",
      "source": [
        "print(arr.size)"
      ],
      "metadata": {
        "colab": {
          "base_uri": "https://localhost:8080/"
        },
        "id": "3Vi0y_23kGWY",
        "outputId": "327a1393-bc91-4308-fba2-5bb896f03426"
      },
      "execution_count": null,
      "outputs": [
        {
          "output_type": "stream",
          "name": "stdout",
          "text": [
            "15\n"
          ]
        }
      ]
    },
    {
      "cell_type": "code",
      "source": [
        "print(type(arr))"
      ],
      "metadata": {
        "colab": {
          "base_uri": "https://localhost:8080/"
        },
        "id": "VNAPiinlkJoI",
        "outputId": "58934a42-629c-4882-b193-5daaf3cfa5a5"
      },
      "execution_count": null,
      "outputs": [
        {
          "output_type": "stream",
          "name": "stdout",
          "text": [
            "<class 'numpy.ndarray'>\n"
          ]
        }
      ]
    },
    {
      "cell_type": "markdown",
      "source": [
        "###  **4.2-Indexing and Slicing**"
      ],
      "metadata": {
        "id": "K27e_ucuVEBr"
      }
    },
    {
      "cell_type": "code",
      "source": [
        "# Accessing a specific element\n",
        "specific_element = arr[1, 2]"
      ],
      "metadata": {
        "id": "yaxh1EWCkcKh"
      },
      "execution_count": null,
      "outputs": []
    },
    {
      "cell_type": "code",
      "source": [
        "# Creating a NumPy array\n",
        "arr = np.array([10, 20, 30, 40, 50])\n",
        "# Accessing individual elements\n",
        "first_element = arr[0] # Access the first element (10)\n",
        "# Accessing elements using negative indices\n",
        "last_element = arr[-1] # Access the last element (50)\n",
        "# Creating a 2D NumPy array\n",
        "arr_2d = np.array([[1, 2, 3], [4, 5, 6], [7, 8, 9]])\n",
        "# Slicing along rows and columns\n",
        "sliced_array = arr_2d[0,1] # Element at row 0, column 1 (value: 2)"
      ],
      "metadata": {
        "id": "3IR-q0XiVaE8"
      },
      "execution_count": null,
      "outputs": []
    },
    {
      "cell_type": "code",
      "source": [
        "# Slicing the array to create a new array\n",
        "sliced_array = arr[1:4] # Slice from index 1 to 3 (exclusive) [20,30,40]\n",
        "# Slicing with a step of 2\n",
        "sliced_array = arr[0::2] # Start at index 0, step by 2 [10,30,50]\n",
        "# Slicing with negative index\n",
        "second_to_last = arr[-2::] # Access the last two elements [40,50]\n",
        "# Conditional slicing: Select elements greater than 30\n",
        "sliced_array = arr[arr > 30] # Result: [40, 50]\n",
        "# Creating a 2D NumPy array\n",
        "arr_2d = np.array([[1, 2, 3], [4, 5, 6], [7, 8, 9]])\n",
        "# Slicing along rows and columns\n",
        "sliced_array = arr_2d[1:3, 0:2] # Slice a 2x2 subarray: [[4, 5], [7, 8]]"
      ],
      "metadata": {
        "id": "HqaK4SKIVe_M"
      },
      "execution_count": null,
      "outputs": []
    },
    {
      "cell_type": "markdown",
      "source": [
        "### **4.3-Aggregation Functions**"
      ],
      "metadata": {
        "id": "4vVz0czgVzNq"
      }
    },
    {
      "cell_type": "code",
      "source": [
        "# Calculating the sum of an array\n",
        "sum_of_array = np.sum(arr_2d)\n",
        "# Calculating the mean of an array\n",
        "mean_of_array = np.mean(arr_1d)\n",
        "# Finding the minimum and maximum values in an array\n",
        "min_value = np.min(arr_2d)\n",
        "max_value = np.max(arr_1d)"
      ],
      "metadata": {
        "id": "tWlgroQ8V7iV"
      },
      "execution_count": null,
      "outputs": []
    },
    {
      "cell_type": "markdown",
      "source": [
        "**Sum**"
      ],
      "metadata": {
        "id": "q4O6aWQbXDry"
      }
    },
    {
      "cell_type": "code",
      "source": [
        "# Creating a 2D array\n",
        "matrix = np.array([[1, 2, 3], [4, 5, 6], [7, 8, 9]])\n",
        "print(matrix)\n",
        "# Sum of all elements\n",
        "total_sum = np.sum(matrix)\n",
        "print(\"Total Sum:\", total_sum)\n",
        "# Sum along each column (axis=0)\n",
        "column_sums = np.sum(matrix, axis=0)\n",
        "print(\"Column Sums:\", column_sums)\n",
        "# Sum along each row (axis=1)\n",
        "row_sums = np.sum(matrix, axis=1)\n",
        "print(\"Row Sums:\", row_sums)"
      ],
      "metadata": {
        "colab": {
          "base_uri": "https://localhost:8080/"
        },
        "id": "DYATECK1WId0",
        "outputId": "b3cd7d15-4834-4f09-cbcf-7abc2b26cd99"
      },
      "execution_count": null,
      "outputs": [
        {
          "output_type": "stream",
          "name": "stdout",
          "text": [
            "[[1 2 3]\n",
            " [4 5 6]\n",
            " [7 8 9]]\n",
            "Total Sum: 45\n",
            "Column Sums: [12 15 18]\n",
            "Row Sums: [ 6 15 24]\n"
          ]
        }
      ]
    },
    {
      "cell_type": "markdown",
      "source": [
        "**Mean and Average:**"
      ],
      "metadata": {
        "id": "V1vEea--XLix"
      }
    },
    {
      "cell_type": "code",
      "source": [
        "# Mean of all elements\n",
        "mean_value = np.mean(matrix)\n",
        "print(\"Mean:\", mean_value)"
      ],
      "metadata": {
        "colab": {
          "base_uri": "https://localhost:8080/"
        },
        "id": "CNPwZWuxXPKx",
        "outputId": "07ff92cc-298b-49a0-e013-5c8ae72db53d"
      },
      "execution_count": null,
      "outputs": [
        {
          "output_type": "stream",
          "name": "stdout",
          "text": [
            "Mean: 5.0\n"
          ]
        }
      ]
    },
    {
      "cell_type": "code",
      "source": [
        "# Mean along each column\n",
        "column_means = np.mean(matrix, axis=0)\n",
        "print(\"Column Means:\", column_means)"
      ],
      "metadata": {
        "colab": {
          "base_uri": "https://localhost:8080/"
        },
        "id": "7n4V9cEAXTOh",
        "outputId": "1ef7222d-1fc8-480e-8f07-88b0401b0ab9"
      },
      "execution_count": null,
      "outputs": [
        {
          "output_type": "stream",
          "name": "stdout",
          "text": [
            "Column Means: [4. 5. 6.]\n"
          ]
        }
      ]
    },
    {
      "cell_type": "code",
      "source": [
        "# Mean along each row\n",
        "row_means = np.mean(matrix, axis=1)\n",
        "print(\"Row Means:\", row_means)"
      ],
      "metadata": {
        "colab": {
          "base_uri": "https://localhost:8080/"
        },
        "id": "Z110nS5bXWz5",
        "outputId": "fce7be89-4821-494f-e522-45b623a7584d"
      },
      "execution_count": null,
      "outputs": [
        {
          "output_type": "stream",
          "name": "stdout",
          "text": [
            "Row Means: [2. 5. 8.]\n"
          ]
        }
      ]
    },
    {
      "cell_type": "markdown",
      "source": [
        "**Maximum and Minimum:**"
      ],
      "metadata": {
        "id": "670x61eubA9_"
      }
    },
    {
      "cell_type": "code",
      "source": [
        "# Maximum element\n",
        "max_value = np.max(matrix)\n",
        "print(\"Maximum Value:\", max_value)"
      ],
      "metadata": {
        "colab": {
          "base_uri": "https://localhost:8080/"
        },
        "id": "e6bzdesxbFY3",
        "outputId": "f1864fdd-9898-4a9e-9800-d449d3f19cf1"
      },
      "execution_count": null,
      "outputs": [
        {
          "output_type": "stream",
          "name": "stdout",
          "text": [
            "Maximum Value: 9\n"
          ]
        }
      ]
    },
    {
      "cell_type": "code",
      "source": [
        "# Maximum along each column\n",
        "column_max = np.max(matrix, axis=0)\n",
        "print(\"Column Max Values:\", column_max)"
      ],
      "metadata": {
        "colab": {
          "base_uri": "https://localhost:8080/"
        },
        "id": "BKQsohz2bJQt",
        "outputId": "da23193c-a274-4ca1-c181-8083ed4a84e2"
      },
      "execution_count": null,
      "outputs": [
        {
          "output_type": "stream",
          "name": "stdout",
          "text": [
            "Column Max Values: [7 8 9]\n"
          ]
        }
      ]
    },
    {
      "cell_type": "code",
      "source": [
        "# Maximum along each row\n",
        "row_max = np.max(matrix, axis=1)\n",
        "print(\"Row Max Values:\", row_max)"
      ],
      "metadata": {
        "colab": {
          "base_uri": "https://localhost:8080/"
        },
        "id": "cFzkJBxHbNnU",
        "outputId": "b928cfc7-962d-43cf-cb8b-910175392882"
      },
      "execution_count": null,
      "outputs": [
        {
          "output_type": "stream",
          "name": "stdout",
          "text": [
            "Row Max Values: [3 6 9]\n"
          ]
        }
      ]
    },
    {
      "cell_type": "code",
      "source": [
        "# Minimum element\n",
        "min_value = np.min(matrix)\n",
        "print(\"Minimum Value:\", min_value)"
      ],
      "metadata": {
        "colab": {
          "base_uri": "https://localhost:8080/"
        },
        "id": "XCp08VdGbR48",
        "outputId": "f94e797c-7837-4174-860b-11068e2fa3af"
      },
      "execution_count": null,
      "outputs": [
        {
          "output_type": "stream",
          "name": "stdout",
          "text": [
            "Minimum Value: 1\n"
          ]
        }
      ]
    },
    {
      "cell_type": "markdown",
      "source": [
        "### **4.4- Reshaping and Transposing**"
      ],
      "metadata": {
        "id": "eHqXOpTrbbAj"
      }
    },
    {
      "cell_type": "code",
      "source": [
        "array_1 = np.arange(-9,9, 2)\n",
        "array_2 = np.arange(-9,9, 2).reshape((3,3))\n",
        "\n",
        "data = np.array([10, 20, 30, 40, 50])"
      ],
      "metadata": {
        "id": "Z6B6igqLsrV7"
      },
      "execution_count": null,
      "outputs": []
    },
    {
      "cell_type": "markdown",
      "source": [
        "**Reshaping 1D Array to 2D Array:**"
      ],
      "metadata": {
        "id": "JFl2XYskEGjs"
      }
    },
    {
      "cell_type": "code",
      "source": [
        "import numpy as np\n",
        "\n",
        "# Creating a 1D array\n",
        "original_array = np.array([1, 2, 3, 4, 5, 6, 7, 8, 9])\n",
        "\n",
        "# Reshaping the 1D array to a 2D array with 3 rows and 3 columns\n",
        "reshaped_array = original_array.reshape(3, 3)\n",
        "\n",
        "# Printing the original and reshaped arrays\n",
        "print(\"Original 1D array:\")\n",
        "print(original_array)\n",
        "print(\"\\nReshaped 2D array:\")\n",
        "print(reshaped_array)"
      ],
      "metadata": {
        "colab": {
          "base_uri": "https://localhost:8080/"
        },
        "id": "XeARIW_wbxCS",
        "outputId": "efe8128c-fbf0-4297-e538-a7a2328f80d6"
      },
      "execution_count": null,
      "outputs": [
        {
          "output_type": "stream",
          "name": "stdout",
          "text": [
            "Original 1D array:\n",
            "[1 2 3 4 5 6 7 8 9]\n",
            "\n",
            "Reshaped 2D array:\n",
            "[[1 2 3]\n",
            " [4 5 6]\n",
            " [7 8 9]]\n"
          ]
        }
      ]
    },
    {
      "cell_type": "markdown",
      "source": [
        "**Reshaping 1D Array to 3D Array:**"
      ],
      "metadata": {
        "id": "KSPyjfXkFX-b"
      }
    },
    {
      "cell_type": "code",
      "source": [
        "import numpy as np\n",
        "\n",
        "# Creating a 1D array\n",
        "original_array = np.array([1, 2, 3, 4, 5, 6, 7, 8, 9, 10, 11, 12])\n",
        "\n",
        "# Reshaping the 1D array to a 3D array with 2 blocks, 2 rows, and 3 columns\n",
        "reshaped_array = original_array.reshape(2, 2, 3)\n",
        "\n",
        "# Printing the original and reshaped arrays\n",
        "print(\"Original 1D array:\")\n",
        "print(original_array)\n",
        "print(\"\\nReshaped 3D array:\")\n",
        "print(reshaped_array)\n"
      ],
      "metadata": {
        "colab": {
          "base_uri": "https://localhost:8080/"
        },
        "id": "NXPxSsNtFUKs",
        "outputId": "029ab8fa-f992-4ea5-e3ca-b0f3a866061a"
      },
      "execution_count": null,
      "outputs": [
        {
          "output_type": "stream",
          "name": "stdout",
          "text": [
            "Original 1D array:\n",
            "[ 1  2  3  4  5  6  7  8  9 10 11 12]\n",
            "\n",
            "Reshaped 3D array:\n",
            "[[[ 1  2  3]\n",
            "  [ 4  5  6]]\n",
            "\n",
            " [[ 7  8  9]\n",
            "  [10 11 12]]]\n"
          ]
        }
      ]
    },
    {
      "cell_type": "markdown",
      "source": [
        "**Reshaping with -1:**"
      ],
      "metadata": {
        "id": "V3p3gbQpHBQJ"
      }
    },
    {
      "cell_type": "code",
      "source": [
        "import numpy as np\n",
        "\n",
        "# Creating a 1D array with 12 elements\n",
        "original_array = np.array([1, 2, 3, 4, 5, 6, 7, 8, 9, 10, 11, 12])\n",
        "\n",
        "# Reshaping the 1D array to a 2D array with 4 rows and an automatically calculated number of columns\n",
        "reshaped_array = original_array.reshape(-1, 4)\n",
        "\n",
        "# Printing the original and reshaped arrays\n",
        "print(\"Original 1D array:\")\n",
        "print(original_array)\n",
        "print(\"\\nReshaped 2D array with -1:\")\n",
        "print(reshaped_array)\n"
      ],
      "metadata": {
        "colab": {
          "base_uri": "https://localhost:8080/"
        },
        "id": "oT5aUS8mG0Fi",
        "outputId": "683d38d3-675d-463f-c6a7-a4ae7a2ca12a"
      },
      "execution_count": null,
      "outputs": [
        {
          "output_type": "stream",
          "name": "stdout",
          "text": [
            "Original 1D array:\n",
            "[ 1  2  3  4  5  6  7  8  9 10 11 12]\n",
            "\n",
            "Reshaped 2D array with -1:\n",
            "[[ 1  2  3  4]\n",
            " [ 5  6  7  8]\n",
            " [ 9 10 11 12]]\n"
          ]
        }
      ]
    },
    {
      "cell_type": "markdown",
      "source": [
        "**Flattening a 2D or 3D Array:**"
      ],
      "metadata": {
        "id": "brLiT8h4bkHO"
      }
    },
    {
      "cell_type": "code",
      "source": [
        "import numpy as np\n",
        "\n",
        "# Creating a 2D array\n",
        "original_2d_array = np.array([[1, 2, 3], [4, 5, 6], [7, 8, 9]])\n",
        "\n",
        "# Flattening the 2D array using flatten()\n",
        "flattened_array = original_2d_array.flatten()\n",
        "\n",
        "# Printing the original and flattened arrays\n",
        "print(\"Original 2D array:\")\n",
        "print(original_2d_array)\n",
        "print(\"\\nFlattened 1D array:\")\n",
        "print(flattened_array)"
      ],
      "metadata": {
        "colab": {
          "base_uri": "https://localhost:8080/"
        },
        "id": "0x-0DRk6bzX9",
        "outputId": "b031f7a3-3648-4b84-ac3f-1dd8a5b48a6c"
      },
      "execution_count": null,
      "outputs": [
        {
          "output_type": "stream",
          "name": "stdout",
          "text": [
            "Original 2D array:\n",
            "[[1 2 3]\n",
            " [4 5 6]\n",
            " [7 8 9]]\n",
            "\n",
            "Flattened 1D array:\n",
            "[1 2 3 4 5 6 7 8 9]\n"
          ]
        }
      ]
    },
    {
      "cell_type": "code",
      "source": [
        "import numpy as np\n",
        "\n",
        "# Creating a 3D array\n",
        "original_3d_array = np.array([[[1, 2], [3, 4]], [[5, 6], [7, 8]], [[9, 10], [11, 12]]])\n",
        "\n",
        "# Flattening the 3D array using flatten()\n",
        "flattened_array_3d = original_3d_array.flatten()\n",
        "\n",
        "# Printing the original and flattened arrays\n",
        "print(\"Original 3D array:\")\n",
        "print(original_3d_array)\n",
        "print(\"\\nFlattened 1D array:\")\n",
        "print(flattened_array_3d)\n"
      ],
      "metadata": {
        "colab": {
          "base_uri": "https://localhost:8080/"
        },
        "id": "Fuw9L2XXcRzd",
        "outputId": "1e511016-78b5-4c72-8faa-06965b565d6d"
      },
      "execution_count": null,
      "outputs": [
        {
          "output_type": "stream",
          "name": "stdout",
          "text": [
            "Original 3D array:\n",
            "[[[ 1  2]\n",
            "  [ 3  4]]\n",
            "\n",
            " [[ 5  6]\n",
            "  [ 7  8]]\n",
            "\n",
            " [[ 9 10]\n",
            "  [11 12]]]\n",
            "\n",
            "Flattened 1D array:\n",
            "[ 1  2  3  4  5  6  7  8  9 10 11 12]\n"
          ]
        }
      ]
    },
    {
      "cell_type": "markdown",
      "source": [
        "**Transpose operations**"
      ],
      "metadata": {
        "id": "WsPlfZqIdKZb"
      }
    },
    {
      "cell_type": "code",
      "source": [
        "matrix3x2 = np.array([[1, 2], [3, 4], [5, 6]]) # Define a 3x2 matrix\n",
        "print('Original matrix 3 x 2')\n",
        "print(matrix3x2)\n",
        "print('Transposed matrix 2 x 3')\n",
        "print(matrix3x2.T)"
      ],
      "metadata": {
        "colab": {
          "base_uri": "https://localhost:8080/"
        },
        "id": "kw34XEbCdSj6",
        "outputId": "0d99a4f0-7f33-4c8d-c391-27dc197391ed"
      },
      "execution_count": null,
      "outputs": [
        {
          "output_type": "stream",
          "name": "stdout",
          "text": [
            "Original matrix 3 x 2\n",
            "[[1 2]\n",
            " [3 4]\n",
            " [5 6]]\n",
            "Transposed matrix 2 x 3\n",
            "[[1 3 5]\n",
            " [2 4 6]]\n"
          ]
        }
      ]
    },
    {
      "cell_type": "markdown",
      "source": [
        "### **4.4- Append and Delete**"
      ],
      "metadata": {
        "id": "Fp176_MAfv0z"
      }
    },
    {
      "cell_type": "code",
      "source": [
        "# Create an array\n",
        "original_array = np.array([1, 2, 3])\n",
        "# Append elements in-place\n",
        "original_array = np.append(original_array, [4, 5, 6])\n",
        "# Create a NumPy array\n",
        "arr = np.array([1, 2, 3, 4, 5])\n",
        "# Remove the item at index 2 (value 3)\n",
        "new_arr = np.delete(arr, 2)\n",
        "# Create a 2D NumPy array\n",
        "arr = np.array([[1, 2, 3], [4,5, 6], [7, 8, 9]])\n",
        "# Remove the second row (index 1)\n",
        "new_arr = np.delete(arr, 1, axis=0)"
      ],
      "metadata": {
        "id": "wWJma5Chf6qF"
      },
      "execution_count": null,
      "outputs": []
    },
    {
      "cell_type": "code",
      "source": [
        "nparray = np.array([[1, 2, 3, 4]]) # Define a 1 x 4 matrix. Note the 2 level of square brackets\n",
        "print('Original array')\n",
        "print(nparray)\n",
        "print('Transposed array')\n",
        "print(nparray.T)"
      ],
      "metadata": {
        "colab": {
          "base_uri": "https://localhost:8080/"
        },
        "id": "W1E1FHHUdYXc",
        "outputId": "638a28fe-caaa-4085-c15a-e6e197ff38b1"
      },
      "execution_count": null,
      "outputs": [
        {
          "output_type": "stream",
          "name": "stdout",
          "text": [
            "Original array\n",
            "[[1 2 3 4]]\n",
            "Transposed array\n",
            "[[1]\n",
            " [2]\n",
            " [3]\n",
            " [4]]\n"
          ]
        }
      ]
    },
    {
      "cell_type": "code",
      "source": [
        "# sum over\n",
        "sum_1, sum_2, sum_3 = np.sum(array_1), np.sum(array_2, axis=0), np.sum(array_2, axis=1)\n",
        "# take product\n",
        "prod_1, prod_2, prod_3 = np.prod(array_1), np.prod(array_2, axis=0), np.prod(array_2, axis=1)\n",
        "# cumulative sum\n",
        "cumsum_1, cumsum_2, cumsum_3 = np.cumsum(array_1), np.cumsum(array_2, axis=0), np.cumsum(array_2, axis=1)\n",
        "# clip values\n",
        "clip_1, clip_2 = np.clip(array_1, 2, 8), np.clip(array_2, 2, 8)\n",
        "# take absolute value\n",
        "absolute_1, absolute_2 = np.absolute(array_1), np.absolute(array_2)\n",
        "# take square root\n",
        "sqrt_1, sqrt_2 = np.sqrt(np.absolute(array_1)), np.sqrt(np.absolute(array_2))\n",
        "# take the square power\n",
        "square_1, square_2 =  np.square(array_1), np.square(array_2)\n",
        "# sign function\n",
        "sign_1, sign_2 = np.sign(array_1), np.sign(array_2)\n",
        "# n power\n",
        "power = np.power(np.absolute(array_1), np.absolute(array_1))"
      ],
      "metadata": {
        "id": "DVpjwLBTbpdS"
      },
      "execution_count": null,
      "outputs": []
    },
    {
      "cell_type": "markdown",
      "source": [
        "# **📚Section6- Creating Numpy Array**"
      ],
      "metadata": {
        "id": "Mm9QRTZokflx"
      }
    },
    {
      "cell_type": "markdown",
      "source": [
        "There are several ways to create arrays.\n",
        "For example, you can create an array from a regular Python list or tuple using the array function. The type of the\n",
        "resulting array is deduced from the type of the elements in the sequences"
      ],
      "metadata": {
        "id": "NFyAWgpCknPU"
      }
    },
    {
      "cell_type": "code",
      "source": [
        "arr_a = np.array([2, 3, 4]) # array creation of integer data type"
      ],
      "metadata": {
        "id": "S4LctFAjkhT4",
        "outputId": "6ece0e60-1611-45a3-fb0e-e3688eba1c6c",
        "colab": {
          "base_uri": "https://localhost:8080/",
          "height": 141
        }
      },
      "execution_count": null,
      "outputs": [
        {
          "output_type": "error",
          "ename": "NameError",
          "evalue": "name 'np' is not defined",
          "traceback": [
            "\u001b[0;31m---------------------------------------------------------------------------\u001b[0m",
            "\u001b[0;31mNameError\u001b[0m                                 Traceback (most recent call last)",
            "\u001b[0;32m<ipython-input-1-9cf9c4e8a43d>\u001b[0m in \u001b[0;36m<cell line: 1>\u001b[0;34m()\u001b[0m\n\u001b[0;32m----> 1\u001b[0;31m \u001b[0marr_a\u001b[0m \u001b[0;34m=\u001b[0m \u001b[0mnp\u001b[0m\u001b[0;34m.\u001b[0m\u001b[0marray\u001b[0m\u001b[0;34m(\u001b[0m\u001b[0;34m[\u001b[0m\u001b[0;36m2\u001b[0m\u001b[0;34m,\u001b[0m \u001b[0;36m3\u001b[0m\u001b[0;34m,\u001b[0m \u001b[0;36m4\u001b[0m\u001b[0;34m]\u001b[0m\u001b[0;34m)\u001b[0m \u001b[0;31m# array creation of integer data type\u001b[0m\u001b[0;34m\u001b[0m\u001b[0;34m\u001b[0m\u001b[0m\n\u001b[0m",
            "\u001b[0;31mNameError\u001b[0m: name 'np' is not defined"
          ]
        }
      ]
    },
    {
      "cell_type": "code",
      "source": [
        "print(arr_a)"
      ],
      "metadata": {
        "colab": {
          "base_uri": "https://localhost:8080/"
        },
        "id": "895Lww8Xktvh",
        "outputId": "86138a70-372a-4152-d76b-95e018c9b695"
      },
      "execution_count": null,
      "outputs": [
        {
          "output_type": "stream",
          "name": "stdout",
          "text": [
            "[2 3 4]\n"
          ]
        }
      ]
    },
    {
      "cell_type": "code",
      "source": [
        "arr_a.dtype # Data Type"
      ],
      "metadata": {
        "colab": {
          "base_uri": "https://localhost:8080/"
        },
        "id": "bmxS5T9Mku7y",
        "outputId": "026bebf5-39ef-458a-d752-5d578cdf2260"
      },
      "execution_count": null,
      "outputs": [
        {
          "output_type": "execute_result",
          "data": {
            "text/plain": [
              "dtype('int64')"
            ]
          },
          "metadata": {},
          "execution_count": 19
        }
      ]
    },
    {
      "cell_type": "code",
      "source": [
        "arr_b = np.array([4.0,5.4,42.5]) # array creation with float data type\n",
        "print(arr_b)\n",
        "print(arr_b.dtype)\n"
      ],
      "metadata": {
        "colab": {
          "base_uri": "https://localhost:8080/"
        },
        "id": "xw-DCovHkzJ7",
        "outputId": "b0b29470-e931-436e-fa68-b7bf3d6aca14"
      },
      "execution_count": null,
      "outputs": [
        {
          "output_type": "stream",
          "name": "stdout",
          "text": [
            "[ 4.   5.4 42.5]\n",
            "float64\n"
          ]
        }
      ]
    },
    {
      "cell_type": "markdown",
      "source": [
        "## **Array Creation with Builtin functions**"
      ],
      "metadata": {
        "id": "VzKOOIddluHa"
      }
    },
    {
      "cell_type": "code",
      "source": [
        "arr_zeros = np.zeros((5,5))\n",
        "arr_zeros"
      ],
      "metadata": {
        "colab": {
          "base_uri": "https://localhost:8080/"
        },
        "id": "1N9dllV0lyYf",
        "outputId": "aabc4954-831e-4e33-913c-f9069cef9f97"
      },
      "execution_count": null,
      "outputs": [
        {
          "output_type": "execute_result",
          "data": {
            "text/plain": [
              "array([[0., 0., 0., 0., 0.],\n",
              "       [0., 0., 0., 0., 0.],\n",
              "       [0., 0., 0., 0., 0.],\n",
              "       [0., 0., 0., 0., 0.],\n",
              "       [0., 0., 0., 0., 0.]])"
            ]
          },
          "metadata": {},
          "execution_count": 24
        }
      ]
    },
    {
      "cell_type": "code",
      "source": [
        "arr_ones= np.ones((5,5))\n",
        "arr_ones"
      ],
      "metadata": {
        "colab": {
          "base_uri": "https://localhost:8080/"
        },
        "id": "BuoYHsh1l6cH",
        "outputId": "a5a07373-b5de-4429-ceff-6e70237408f3"
      },
      "execution_count": null,
      "outputs": [
        {
          "output_type": "execute_result",
          "data": {
            "text/plain": [
              "array([[1., 1., 1., 1., 1.],\n",
              "       [1., 1., 1., 1., 1.],\n",
              "       [1., 1., 1., 1., 1.],\n",
              "       [1., 1., 1., 1., 1.],\n",
              "       [1., 1., 1., 1., 1.]])"
            ]
          },
          "metadata": {},
          "execution_count": 25
        }
      ]
    },
    {
      "cell_type": "code",
      "source": [
        "arr_create = np.arange(5,50, 2)\n",
        "arr_create\n",
        "len(arr_create)"
      ],
      "metadata": {
        "colab": {
          "base_uri": "https://localhost:8080/"
        },
        "id": "INYodR2Ul_mI",
        "outputId": "6a736caa-cc8f-4ffb-92e4-b345bab326d0"
      },
      "execution_count": null,
      "outputs": [
        {
          "output_type": "execute_result",
          "data": {
            "text/plain": [
              "23"
            ]
          },
          "metadata": {},
          "execution_count": 33
        }
      ]
    },
    {
      "cell_type": "markdown",
      "source": [
        "##Printing Arrays"
      ],
      "metadata": {
        "id": "rCkHha3rnSdE"
      }
    },
    {
      "cell_type": "markdown",
      "source": [
        "Printing array in numpy is very easy and can do it by using the builtin print function"
      ],
      "metadata": {
        "id": "_vHgHyoFnY_y"
      }
    },
    {
      "cell_type": "markdown",
      "source": [
        "When you print an array, NumPy displays it in a similar way to nested lists, but with the following layout:\n",
        "• the last axis is printed from left to right,\n",
        "• the second-to-last is printed from top to bottom,\n",
        "• the rest are also printed from top to bottom, with each slice separated from the next by an empty line.\n",
        "One-dimensional arrays are then printed as rows, bidimensionals as matrices and tridimensionals as lists of matrices"
      ],
      "metadata": {
        "id": "idIHLH5nnmSC"
      }
    },
    {
      "cell_type": "code",
      "source": [
        "arr = np.arange(5)\n",
        "print(arr)"
      ],
      "metadata": {
        "colab": {
          "base_uri": "https://localhost:8080/"
        },
        "id": "P9s_1nismfhd",
        "outputId": "ab979b3c-5ba7-44cc-b246-d7df3e059622"
      },
      "execution_count": null,
      "outputs": [
        {
          "output_type": "stream",
          "name": "stdout",
          "text": [
            "[0 1 2 3 4]\n"
          ]
        }
      ]
    },
    {
      "cell_type": "code",
      "source": [
        "arr = np.arange(12).reshape(3,4)\n",
        "print(arr)"
      ],
      "metadata": {
        "colab": {
          "base_uri": "https://localhost:8080/"
        },
        "id": "7O9ScLNLnx7R",
        "outputId": "5b6738c9-b549-4469-f92b-b0dc6182de5b"
      },
      "execution_count": null,
      "outputs": [
        {
          "output_type": "stream",
          "name": "stdout",
          "text": [
            "[[ 0  1  2  3]\n",
            " [ 4  5  6  7]\n",
            " [ 8  9 10 11]]\n"
          ]
        }
      ]
    },
    {
      "cell_type": "code",
      "source": [
        "arr = np.arange(24).reshape(2,3,4)\n",
        "print(arr)"
      ],
      "metadata": {
        "colab": {
          "base_uri": "https://localhost:8080/"
        },
        "id": "j9ly-cwAn5_A",
        "outputId": "5be4ccae-e81a-4158-e26e-6bf0da9aa057"
      },
      "execution_count": null,
      "outputs": [
        {
          "output_type": "stream",
          "name": "stdout",
          "text": [
            "[[[ 0  1  2  3]\n",
            "  [ 4  5  6  7]\n",
            "  [ 8  9 10 11]]\n",
            "\n",
            " [[12 13 14 15]\n",
            "  [16 17 18 19]\n",
            "  [20 21 22 23]]]\n"
          ]
        }
      ]
    },
    {
      "cell_type": "code",
      "source": [
        "arr = np.arange(1000)\n",
        "print(arr)"
      ],
      "metadata": {
        "colab": {
          "base_uri": "https://localhost:8080/"
        },
        "id": "Rg0pIFpjoA7h",
        "outputId": "c54c9b99-e989-4d0f-d14a-2e97764d72d5"
      },
      "execution_count": null,
      "outputs": [
        {
          "output_type": "stream",
          "name": "stdout",
          "text": [
            "[  0   1   2   3   4   5   6   7   8   9  10  11  12  13  14  15  16  17\n",
            "  18  19  20  21  22  23  24  25  26  27  28  29  30  31  32  33  34  35\n",
            "  36  37  38  39  40  41  42  43  44  45  46  47  48  49  50  51  52  53\n",
            "  54  55  56  57  58  59  60  61  62  63  64  65  66  67  68  69  70  71\n",
            "  72  73  74  75  76  77  78  79  80  81  82  83  84  85  86  87  88  89\n",
            "  90  91  92  93  94  95  96  97  98  99 100 101 102 103 104 105 106 107\n",
            " 108 109 110 111 112 113 114 115 116 117 118 119 120 121 122 123 124 125\n",
            " 126 127 128 129 130 131 132 133 134 135 136 137 138 139 140 141 142 143\n",
            " 144 145 146 147 148 149 150 151 152 153 154 155 156 157 158 159 160 161\n",
            " 162 163 164 165 166 167 168 169 170 171 172 173 174 175 176 177 178 179\n",
            " 180 181 182 183 184 185 186 187 188 189 190 191 192 193 194 195 196 197\n",
            " 198 199 200 201 202 203 204 205 206 207 208 209 210 211 212 213 214 215\n",
            " 216 217 218 219 220 221 222 223 224 225 226 227 228 229 230 231 232 233\n",
            " 234 235 236 237 238 239 240 241 242 243 244 245 246 247 248 249 250 251\n",
            " 252 253 254 255 256 257 258 259 260 261 262 263 264 265 266 267 268 269\n",
            " 270 271 272 273 274 275 276 277 278 279 280 281 282 283 284 285 286 287\n",
            " 288 289 290 291 292 293 294 295 296 297 298 299 300 301 302 303 304 305\n",
            " 306 307 308 309 310 311 312 313 314 315 316 317 318 319 320 321 322 323\n",
            " 324 325 326 327 328 329 330 331 332 333 334 335 336 337 338 339 340 341\n",
            " 342 343 344 345 346 347 348 349 350 351 352 353 354 355 356 357 358 359\n",
            " 360 361 362 363 364 365 366 367 368 369 370 371 372 373 374 375 376 377\n",
            " 378 379 380 381 382 383 384 385 386 387 388 389 390 391 392 393 394 395\n",
            " 396 397 398 399 400 401 402 403 404 405 406 407 408 409 410 411 412 413\n",
            " 414 415 416 417 418 419 420 421 422 423 424 425 426 427 428 429 430 431\n",
            " 432 433 434 435 436 437 438 439 440 441 442 443 444 445 446 447 448 449\n",
            " 450 451 452 453 454 455 456 457 458 459 460 461 462 463 464 465 466 467\n",
            " 468 469 470 471 472 473 474 475 476 477 478 479 480 481 482 483 484 485\n",
            " 486 487 488 489 490 491 492 493 494 495 496 497 498 499 500 501 502 503\n",
            " 504 505 506 507 508 509 510 511 512 513 514 515 516 517 518 519 520 521\n",
            " 522 523 524 525 526 527 528 529 530 531 532 533 534 535 536 537 538 539\n",
            " 540 541 542 543 544 545 546 547 548 549 550 551 552 553 554 555 556 557\n",
            " 558 559 560 561 562 563 564 565 566 567 568 569 570 571 572 573 574 575\n",
            " 576 577 578 579 580 581 582 583 584 585 586 587 588 589 590 591 592 593\n",
            " 594 595 596 597 598 599 600 601 602 603 604 605 606 607 608 609 610 611\n",
            " 612 613 614 615 616 617 618 619 620 621 622 623 624 625 626 627 628 629\n",
            " 630 631 632 633 634 635 636 637 638 639 640 641 642 643 644 645 646 647\n",
            " 648 649 650 651 652 653 654 655 656 657 658 659 660 661 662 663 664 665\n",
            " 666 667 668 669 670 671 672 673 674 675 676 677 678 679 680 681 682 683\n",
            " 684 685 686 687 688 689 690 691 692 693 694 695 696 697 698 699 700 701\n",
            " 702 703 704 705 706 707 708 709 710 711 712 713 714 715 716 717 718 719\n",
            " 720 721 722 723 724 725 726 727 728 729 730 731 732 733 734 735 736 737\n",
            " 738 739 740 741 742 743 744 745 746 747 748 749 750 751 752 753 754 755\n",
            " 756 757 758 759 760 761 762 763 764 765 766 767 768 769 770 771 772 773\n",
            " 774 775 776 777 778 779 780 781 782 783 784 785 786 787 788 789 790 791\n",
            " 792 793 794 795 796 797 798 799 800 801 802 803 804 805 806 807 808 809\n",
            " 810 811 812 813 814 815 816 817 818 819 820 821 822 823 824 825 826 827\n",
            " 828 829 830 831 832 833 834 835 836 837 838 839 840 841 842 843 844 845\n",
            " 846 847 848 849 850 851 852 853 854 855 856 857 858 859 860 861 862 863\n",
            " 864 865 866 867 868 869 870 871 872 873 874 875 876 877 878 879 880 881\n",
            " 882 883 884 885 886 887 888 889 890 891 892 893 894 895 896 897 898 899\n",
            " 900 901 902 903 904 905 906 907 908 909 910 911 912 913 914 915 916 917\n",
            " 918 919 920 921 922 923 924 925 926 927 928 929 930 931 932 933 934 935\n",
            " 936 937 938 939 940 941 942 943 944 945 946 947 948 949 950 951 952 953\n",
            " 954 955 956 957 958 959 960 961 962 963 964 965 966 967 968 969 970 971\n",
            " 972 973 974 975 976 977 978 979 980 981 982 983 984 985 986 987 988 989\n",
            " 990 991 992 993 994 995 996 997 998 999]\n"
          ]
        }
      ]
    },
    {
      "cell_type": "markdown",
      "source": [
        "#**📚Section 4- Basic Mathematic Operations**"
      ],
      "metadata": {
        "id": "3gtbL5POocfK"
      }
    },
    {
      "cell_type": "markdown",
      "source": [
        "##### **4.1- Addition**"
      ],
      "metadata": {
        "id": "JhpWU1dio2Rt"
      }
    },
    {
      "cell_type": "markdown",
      "source": [
        "**Example 1**"
      ],
      "metadata": {
        "id": "7GjX7UxFpOYh"
      }
    },
    {
      "cell_type": "code",
      "source": [
        "import numpy as np\n",
        "A = np.arange(12).reshape(3,4)\n",
        "A"
      ],
      "metadata": {
        "colab": {
          "base_uri": "https://localhost:8080/"
        },
        "id": "FALoUIz9orON",
        "outputId": "91267341-08a7-4e22-de30-f94c2fda20c4"
      },
      "execution_count": null,
      "outputs": [
        {
          "output_type": "execute_result",
          "data": {
            "text/plain": [
              "array([[ 0,  1,  2,  3],\n",
              "       [ 4,  5,  6,  7],\n",
              "       [ 8,  9, 10, 11]])"
            ]
          },
          "metadata": {},
          "execution_count": 2
        }
      ]
    },
    {
      "cell_type": "code",
      "source": [
        "B = np.arange(12).reshape(3,4)\n",
        "B"
      ],
      "metadata": {
        "colab": {
          "base_uri": "https://localhost:8080/"
        },
        "id": "8tvy_1d9o1Cs",
        "outputId": "a5355714-745b-4ebe-8875-fdc077d7cec5"
      },
      "execution_count": null,
      "outputs": [
        {
          "output_type": "execute_result",
          "data": {
            "text/plain": [
              "array([[ 0,  1,  2,  3],\n",
              "       [ 4,  5,  6,  7],\n",
              "       [ 8,  9, 10, 11]])"
            ]
          },
          "metadata": {},
          "execution_count": 3
        }
      ]
    },
    {
      "cell_type": "code",
      "source": [
        "A+B"
      ],
      "metadata": {
        "colab": {
          "base_uri": "https://localhost:8080/"
        },
        "id": "pwqDdqpVo5t9",
        "outputId": "5765af8e-5875-4cb9-8229-36b34727db23"
      },
      "execution_count": null,
      "outputs": [
        {
          "output_type": "execute_result",
          "data": {
            "text/plain": [
              "array([[ 0,  2,  4,  6],\n",
              "       [ 8, 10, 12, 14],\n",
              "       [16, 18, 20, 22]])"
            ]
          },
          "metadata": {},
          "execution_count": 4
        }
      ]
    },
    {
      "cell_type": "markdown",
      "source": [
        "**Example 2**"
      ],
      "metadata": {
        "id": "9ztVb7-4pSOQ"
      }
    },
    {
      "cell_type": "code",
      "source": [
        "data=np.array([1,2])\n",
        "ones= np.ones(2)\n",
        "addition = data + ones\n",
        "print(f'Addition of data and ones:\\n{addition}\\n')"
      ],
      "metadata": {
        "colab": {
          "base_uri": "https://localhost:8080/"
        },
        "id": "9ZJNqMmupV4o",
        "outputId": "cab7db32-2964-4d81-c1be-658ce7fb0be6"
      },
      "execution_count": null,
      "outputs": [
        {
          "output_type": "stream",
          "name": "stdout",
          "text": [
            "Addition of data and ones:\n",
            "[2. 3.]\n",
            "\n"
          ]
        }
      ]
    },
    {
      "cell_type": "code",
      "source": [
        "data=np.array([[1,2],[2,4]])\n",
        "ones= np.ones(2)\n",
        "addition = data + ones\n",
        "print(f'Addition of data and ones:\\n{addition}\\n')"
      ],
      "metadata": {
        "colab": {
          "base_uri": "https://localhost:8080/"
        },
        "id": "HQo6BZippeM_",
        "outputId": "22e9dbaa-c90e-4d53-a87f-5ac12baa8b2c"
      },
      "execution_count": null,
      "outputs": [
        {
          "output_type": "stream",
          "name": "stdout",
          "text": [
            "Addition of data and ones:\n",
            "[[2. 3.]\n",
            " [3. 5.]]\n",
            "\n"
          ]
        }
      ]
    },
    {
      "cell_type": "markdown",
      "source": [
        "##### **4.2-Substraction , multiplication and Division**"
      ],
      "metadata": {
        "id": "GxhK8Z3qpmbV"
      }
    },
    {
      "cell_type": "markdown",
      "source": [
        "**Substraction**"
      ],
      "metadata": {
        "id": "Zm7VDIM2pwqA"
      }
    },
    {
      "cell_type": "markdown",
      "source": [
        "**Example 1**"
      ],
      "metadata": {
        "id": "Dg8YQJBbp4bR"
      }
    },
    {
      "cell_type": "code",
      "source": [
        "A-B"
      ],
      "metadata": {
        "colab": {
          "base_uri": "https://localhost:8080/"
        },
        "id": "kN-er8eTo9ft",
        "outputId": "e74053ce-6d6c-45b0-d6a5-23dd3a2ad3ee"
      },
      "execution_count": null,
      "outputs": [
        {
          "output_type": "execute_result",
          "data": {
            "text/plain": [
              "array([[0, 0, 0, 0],\n",
              "       [0, 0, 0, 0],\n",
              "       [0, 0, 0, 0]])"
            ]
          },
          "metadata": {},
          "execution_count": 7
        }
      ]
    },
    {
      "cell_type": "markdown",
      "source": [
        "**Example 2**"
      ],
      "metadata": {
        "id": "oynd7ZF9p7w5"
      }
    },
    {
      "cell_type": "code",
      "source": [
        "data=np.array([[1,2]])\n",
        "ones= np.ones(1)\n",
        "subtraction = data - ones\n",
        "print(f'Subtraction of data and ones:\\n{subtraction}\\n')"
      ],
      "metadata": {
        "colab": {
          "base_uri": "https://localhost:8080/"
        },
        "id": "f7h2UI6op-fY",
        "outputId": "fa9d28fb-0ef3-4956-cbd9-ee2cb8396364"
      },
      "execution_count": null,
      "outputs": [
        {
          "output_type": "stream",
          "name": "stdout",
          "text": [
            "Subtraction of data and ones:\n",
            "[[0. 1.]]\n",
            "\n"
          ]
        }
      ]
    },
    {
      "cell_type": "markdown",
      "source": [
        "**Multiplication**"
      ],
      "metadata": {
        "id": "0YyZxogRuenH"
      }
    },
    {
      "cell_type": "markdown",
      "source": [
        "**Example 1-**"
      ],
      "metadata": {
        "id": "9DOBdmGLuiOw"
      }
    },
    {
      "cell_type": "code",
      "source": [
        "A*B"
      ],
      "metadata": {
        "colab": {
          "base_uri": "https://localhost:8080/"
        },
        "id": "iOX3p32xo-6F",
        "outputId": "32553e4f-5c94-4bc7-9339-37a3d3169b3c"
      },
      "execution_count": null,
      "outputs": [
        {
          "output_type": "execute_result",
          "data": {
            "text/plain": [
              "array([[  0,   1,   4,   9],\n",
              "       [ 16,  25,  36,  49],\n",
              "       [ 64,  81, 100, 121]])"
            ]
          },
          "metadata": {},
          "execution_count": 9
        }
      ]
    },
    {
      "cell_type": "markdown",
      "source": [
        "**Example 2**"
      ],
      "metadata": {
        "id": "OeUpdsDAumog"
      }
    },
    {
      "cell_type": "code",
      "source": [
        "data=np.array([[1,2]])\n",
        "multiplication = data * data\n",
        "print(f'Subtraction of data and ones:\\n{subtraction}\\n')\n",
        "print(f'Multiplication of data and data:\\n{multiplication}\\n')"
      ],
      "metadata": {
        "colab": {
          "base_uri": "https://localhost:8080/"
        },
        "id": "8aZ-uxwIupix",
        "outputId": "aca08471-5fa9-42e8-c240-2e5fa5845992"
      },
      "execution_count": null,
      "outputs": [
        {
          "output_type": "stream",
          "name": "stdout",
          "text": [
            "Subtraction of data and ones:\n",
            "[[0. 1.]]\n",
            "\n",
            "Multiplication of data and data:\n",
            "[[1 4]]\n",
            "\n"
          ]
        }
      ]
    },
    {
      "cell_type": "markdown",
      "source": [
        "**Division**"
      ],
      "metadata": {
        "id": "UGK-XfL21GiH"
      }
    },
    {
      "cell_type": "markdown",
      "source": [
        "**Example**"
      ],
      "metadata": {
        "id": "osWR3sHR1NTl"
      }
    },
    {
      "cell_type": "code",
      "source": [
        "A/B"
      ],
      "metadata": {
        "colab": {
          "base_uri": "https://localhost:8080/"
        },
        "id": "ZeYGP9xbpAxt",
        "outputId": "fcf2f799-20a9-4e39-a0df-b505de3c9294"
      },
      "execution_count": null,
      "outputs": [
        {
          "output_type": "stream",
          "name": "stderr",
          "text": [
            "<ipython-input-11-5d618eb3152c>:1: RuntimeWarning: invalid value encountered in divide\n",
            "  A/B\n"
          ]
        },
        {
          "output_type": "execute_result",
          "data": {
            "text/plain": [
              "array([[nan,  1.,  1.,  1.],\n",
              "       [ 1.,  1.,  1.,  1.],\n",
              "       [ 1.,  1.,  1.,  1.]])"
            ]
          },
          "metadata": {},
          "execution_count": 11
        }
      ]
    },
    {
      "cell_type": "markdown",
      "source": [
        "**Example 2**"
      ],
      "metadata": {
        "id": "NFXjChbC1Rv1"
      }
    },
    {
      "cell_type": "code",
      "source": [
        "data=np.array([[1,2]])\n",
        "true_division = data / data\n",
        "print(f'True divition of data and data:\\n{true_division}\\n')"
      ],
      "metadata": {
        "id": "8xrzcP_dpB_l",
        "colab": {
          "base_uri": "https://localhost:8080/"
        },
        "outputId": "c100aa27-7e63-41f5-f6a2-560f834bf55c"
      },
      "execution_count": null,
      "outputs": [
        {
          "output_type": "stream",
          "name": "stdout",
          "text": [
            "True divition of data and data:\n",
            "[[1. 1.]]\n",
            "\n"
          ]
        }
      ]
    },
    {
      "cell_type": "code",
      "source": [
        "a = np.arange(1, 10).reshape((3,3))\n",
        "b = np.arange(10,19).reshape((3,3))\n"
      ],
      "metadata": {
        "id": "9c6YfobX1cXN"
      },
      "execution_count": null,
      "outputs": []
    },
    {
      "cell_type": "code",
      "source": [
        "subtraction = a - b\n",
        "multiplication = a * b\n",
        "true_division = a / b\n",
        "floor_division = a // b\n",
        "remainder = np.remainder(a, b)"
      ],
      "metadata": {
        "id": "fMfuisYQ1g63"
      },
      "execution_count": null,
      "outputs": []
    },
    {
      "cell_type": "code",
      "source": [
        "print(f'Array a:\\n{a}\\n')\n",
        "print(f'Array b:\\n{b}\\n')\n",
        "print(f'Subtraction of a and b:\\n{subtraction}\\n')\n",
        "print(f'Multiplication of a and b:\\n{multiplication}\\n')\n",
        "print(f'True divition of a and b:\\n{true_division}\\n')\n",
        "print(f'Floor division of a and b:\\n{floor_division}\\n')\n",
        "print(f'Remainder of a and b:\\n{remainder}')"
      ],
      "metadata": {
        "id": "cbkoO68a1kds",
        "outputId": "a5066c97-daa5-42fa-b4f8-6f1eba739e15",
        "colab": {
          "base_uri": "https://localhost:8080/"
        }
      },
      "execution_count": null,
      "outputs": [
        {
          "output_type": "stream",
          "name": "stdout",
          "text": [
            "Array a:\n",
            "[[1 2 3]\n",
            " [4 5 6]\n",
            " [7 8 9]]\n",
            "\n",
            "Array b:\n",
            "[[10 11 12]\n",
            " [13 14 15]\n",
            " [16 17 18]]\n",
            "\n",
            "Subtraction of a and b:\n",
            "[[-9 -9 -9]\n",
            " [-9 -9 -9]\n",
            " [-9 -9 -9]]\n",
            "\n",
            "Multiplication of a and b:\n",
            "[[ 10  22  36]\n",
            " [ 52  70  90]\n",
            " [112 136 162]]\n",
            "\n",
            "True divition of a and b:\n",
            "[[0.1        0.18181818 0.25      ]\n",
            " [0.30769231 0.35714286 0.4       ]\n",
            " [0.4375     0.47058824 0.5       ]]\n",
            "\n",
            "Floor division of a and b:\n",
            "[[0 0 0]\n",
            " [0 0 0]\n",
            " [0 0 0]]\n",
            "\n",
            "Remainder of a and b:\n",
            "[[1 2 3]\n",
            " [4 5 6]\n",
            " [7 8 9]]\n"
          ]
        }
      ]
    },
    {
      "cell_type": "markdown",
      "source": [
        "##### **4.3- Dot Product**"
      ],
      "metadata": {
        "id": "E6-TpjeM1q-h"
      }
    },
    {
      "cell_type": "code",
      "source": [
        "import numpy as np\n",
        "a = np.array([1, 2, 3])\n",
        "b = np.array([4, 5, 6])\n",
        "dot_product = np.dot(a, b)\n",
        "print(dot_product)\n",
        "a = np.array([[1, 2], [3, 4]])\n",
        "b = np.array([[5, 6], [7, 8]])\n",
        "dot_product = np.dot(a, b)\n",
        "print(dot_product)"
      ],
      "metadata": {
        "id": "qVU9H318120d",
        "outputId": "50550999-49b1-4b1c-b296-5c5998f49302",
        "colab": {
          "base_uri": "https://localhost:8080/"
        }
      },
      "execution_count": null,
      "outputs": [
        {
          "output_type": "stream",
          "name": "stdout",
          "text": [
            "32\n",
            "[[19 22]\n",
            " [43 50]]\n"
          ]
        }
      ]
    },
    {
      "cell_type": "markdown",
      "source": [
        "##### **4.4-Broadcasting**"
      ],
      "metadata": {
        "id": "i1SmHC7g17EZ"
      }
    },
    {
      "cell_type": "code",
      "source": [
        "import numpy as np\n",
        "arr = np.array([[1, 2, 3], [4, 5, 6]])\n",
        "scalar = 2\n",
        "result_broadcast = arr * scalar\n",
        "print(\"Broadcasting Result:\", result_broadcast)"
      ],
      "metadata": {
        "id": "v6NhlrnT2BaW",
        "outputId": "aa1441ad-383f-45e6-a5f8-6226dcfd9ff6",
        "colab": {
          "base_uri": "https://localhost:8080/"
        }
      },
      "execution_count": null,
      "outputs": [
        {
          "output_type": "stream",
          "name": "stdout",
          "text": [
            "Broadcasting Result: [[ 2  4  6]\n",
            " [ 8 10 12]]\n"
          ]
        }
      ]
    },
    {
      "cell_type": "code",
      "source": [
        "# Creating 1D NumPy arrays\n",
        "arr1 = np.array([1, 2, 3])\n",
        "arr2 = np.array([4, 5, 6])\n",
        "scalar = 2\n",
        "# Actual Matrix Multiplication using np.dot\n",
        "matrix_multiplication = np.dot(arr,arr*2)"
      ],
      "metadata": {
        "id": "P6YsRDhg2KCL",
        "outputId": "e25a8eea-0e63-46dc-ba94-fa4f3f822a9f",
        "colab": {
          "base_uri": "https://localhost:8080/",
          "height": 245
        }
      },
      "execution_count": null,
      "outputs": [
        {
          "output_type": "error",
          "ename": "ValueError",
          "evalue": "ignored",
          "traceback": [
            "\u001b[0;31m---------------------------------------------------------------------------\u001b[0m",
            "\u001b[0;31mValueError\u001b[0m                                Traceback (most recent call last)",
            "\u001b[0;32m<ipython-input-21-0e9855b6ccc3>\u001b[0m in \u001b[0;36m<cell line: 6>\u001b[0;34m()\u001b[0m\n\u001b[1;32m      4\u001b[0m \u001b[0mscalar\u001b[0m \u001b[0;34m=\u001b[0m \u001b[0;36m2\u001b[0m\u001b[0;34m\u001b[0m\u001b[0;34m\u001b[0m\u001b[0m\n\u001b[1;32m      5\u001b[0m \u001b[0;31m# Actual Matrix Multiplication using np.dot\u001b[0m\u001b[0;34m\u001b[0m\u001b[0;34m\u001b[0m\u001b[0m\n\u001b[0;32m----> 6\u001b[0;31m \u001b[0mmatrix_multiplication\u001b[0m \u001b[0;34m=\u001b[0m \u001b[0mnp\u001b[0m\u001b[0;34m.\u001b[0m\u001b[0mdot\u001b[0m\u001b[0;34m(\u001b[0m\u001b[0marr\u001b[0m\u001b[0;34m,\u001b[0m\u001b[0marr\u001b[0m\u001b[0;34m*\u001b[0m\u001b[0;36m2\u001b[0m\u001b[0;34m)\u001b[0m\u001b[0;34m\u001b[0m\u001b[0;34m\u001b[0m\u001b[0m\n\u001b[0m",
            "\u001b[0;32m/usr/local/lib/python3.10/dist-packages/numpy/core/overrides.py\u001b[0m in \u001b[0;36mdot\u001b[0;34m(*args, **kwargs)\u001b[0m\n",
            "\u001b[0;31mValueError\u001b[0m: shapes (2,3) and (2,3) not aligned: 3 (dim 1) != 2 (dim 0)"
          ]
        }
      ]
    },
    {
      "cell_type": "markdown",
      "source": [
        "# **📚Section 5-Statistical Analysis**"
      ],
      "metadata": {
        "id": "5FOpljH3dSOH"
      }
    },
    {
      "cell_type": "markdown",
      "source": [
        "## **5.1-Descriptive Statistics**"
      ],
      "metadata": {
        "id": "KaX_Xx6Tdhdu"
      }
    },
    {
      "cell_type": "code",
      "source": [
        "import numpy as np\n",
        "# Creating a NumPy array\n",
        "data = np.array([1, 2, 3, 4, 5])\n",
        "# Calculate mean and median\n",
        "mean_value = np.mean(data)\n",
        "median_value = np.median(data)\n",
        "# Calculate variance and standard deviation\n",
        "variance_value = np.var(data)\n",
        "std_deviation_value = np.std(data)"
      ],
      "metadata": {
        "id": "k0gmRhrEdvJo"
      },
      "execution_count": null,
      "outputs": []
    },
    {
      "cell_type": "markdown",
      "source": [
        "## **5.2- Working with Distributions**"
      ],
      "metadata": {
        "id": "JY6lRf-1d34v"
      }
    },
    {
      "cell_type": "code",
      "source": [
        "import numpy as np\n",
        "# Generating random samples from a normal distribution\n",
        "random_samples = np.random.normal(loc=0, scale=1, size=1000)"
      ],
      "metadata": {
        "id": "qdeN8LNYenie"
      },
      "execution_count": null,
      "outputs": []
    },
    {
      "cell_type": "markdown",
      "source": [
        "## **5-3-Hypothesis Testing**"
      ],
      "metadata": {
        "id": "VK0Fukmje9FF"
      }
    },
    {
      "cell_type": "code",
      "source": [
        "# One-sample t-test\n",
        "from scipy.stats import ttest_1samp\n",
        "t_statistic, p_value = ttest_1samp(data, popmean=3)"
      ],
      "metadata": {
        "id": "HlPRsFKtfIhm"
      },
      "execution_count": null,
      "outputs": []
    },
    {
      "cell_type": "code",
      "source": [
        "p_value"
      ],
      "metadata": {
        "colab": {
          "base_uri": "https://localhost:8080/"
        },
        "id": "tOu7qyuKfMCG",
        "outputId": "cc2c0419-9f2f-4811-efa1-eaf4c1896591"
      },
      "execution_count": null,
      "outputs": [
        {
          "output_type": "execute_result",
          "data": {
            "text/plain": [
              "1.0"
            ]
          },
          "metadata": {},
          "execution_count": 7
        }
      ]
    },
    {
      "cell_type": "markdown",
      "source": [
        "## **5.4-Correlation and Regression**"
      ],
      "metadata": {
        "id": "vRfJRGg-iA7S"
      }
    },
    {
      "cell_type": "code",
      "source": [
        "data1 = np.array([3, 1, 5, 2, 4])\n",
        "data2 = np.array([3, 1, 6, 7, 4])\n",
        "\n",
        "# Calculate correlation coefficient\n",
        "correlation_coefficient = np.corrcoef(data1, data2)[0, 1]\n",
        "# Linear regression\n",
        "slope, intercept = np.polyfit(data1, data2, 1)"
      ],
      "metadata": {
        "id": "cR0SIeN6iKRr"
      },
      "execution_count": null,
      "outputs": []
    },
    {
      "cell_type": "code",
      "source": [
        "intercept"
      ],
      "metadata": {
        "colab": {
          "base_uri": "https://localhost:8080/"
        },
        "id": "2Rjm5bcJi2va",
        "outputId": "b0d0ae82-7ba1-4190-cb4f-8a5b95c32fb6"
      },
      "execution_count": null,
      "outputs": [
        {
          "output_type": "execute_result",
          "data": {
            "text/plain": [
              "2.100000000000001"
            ]
          },
          "metadata": {},
          "execution_count": 11
        }
      ]
    },
    {
      "cell_type": "markdown",
      "source": [
        "## **5.5-Data Transformation**"
      ],
      "metadata": {
        "id": "PDOD9GibjHzr"
      }
    },
    {
      "cell_type": "code",
      "source": [
        "# Data Centering\n",
        "data = np.array([10, 20, 30, 40, 50])\n",
        "mean = np.mean(data)\n",
        "centered_data = data - mean"
      ],
      "metadata": {
        "id": "zze2HHs6jTS3"
      },
      "execution_count": null,
      "outputs": []
    },
    {
      "cell_type": "code",
      "source": [
        "# Standardization\n",
        "std_dev = np.std(data)\n",
        "standardized_data = (data - mean) / std_dev"
      ],
      "metadata": {
        "id": "p5ALLsWNjZSP"
      },
      "execution_count": null,
      "outputs": []
    },
    {
      "cell_type": "code",
      "source": [
        "# Log Transformation\n",
        "log_transformed_data = np.log(data)"
      ],
      "metadata": {
        "id": "ySeIGaYZjdu8"
      },
      "execution_count": null,
      "outputs": []
    },
    {
      "cell_type": "markdown",
      "source": [
        "## **5-6-Random Sampling**"
      ],
      "metadata": {
        "id": "ftggyIB9mFYo"
      }
    },
    {
      "cell_type": "code",
      "source": [
        "# Simple Random Sampling Without replacement\n",
        "data = np.array([1, 2, 3, 4, 5, 6, 7, 8, 9, 10])\n",
        "random_samples = np.random.choice(data, size=5, replace=False)"
      ],
      "metadata": {
        "id": "-_c0HTtimPMq"
      },
      "execution_count": null,
      "outputs": []
    },
    {
      "cell_type": "code",
      "source": [
        "# Bootstrap Sampling\n",
        "num_samples = 1000\n",
        "bootstrap_samples = np.random.choice(data, size=(num_samples, len(data)), replace=True)"
      ],
      "metadata": {
        "id": "s_Ex7uiqmT4g"
      },
      "execution_count": null,
      "outputs": []
    },
    {
      "cell_type": "markdown",
      "source": [
        "## **5-7-Measures of central tendency**"
      ],
      "metadata": {
        "id": "-IR2MMDjpviq"
      }
    },
    {
      "cell_type": "code",
      "source": [
        "import random as rg"
      ],
      "metadata": {
        "id": "8fJw7ZkvVwhK"
      },
      "execution_count": null,
      "outputs": []
    },
    {
      "cell_type": "code",
      "source": [
        "!pip install scipy"
      ],
      "metadata": {
        "colab": {
          "base_uri": "https://localhost:8080/"
        },
        "id": "Mekmi3ivV5GF",
        "outputId": "364a985f-f33c-4cb0-d427-768ce24f26da"
      },
      "execution_count": null,
      "outputs": [
        {
          "output_type": "stream",
          "name": "stdout",
          "text": [
            "Requirement already satisfied: scipy in /usr/local/lib/python3.10/dist-packages (1.11.4)\n",
            "Requirement already satisfied: numpy<1.28.0,>=1.21.6 in /usr/local/lib/python3.10/dist-packages (from scipy) (1.25.2)\n"
          ]
        }
      ]
    },
    {
      "cell_type": "code",
      "source": [
        "import scipy.stats as sp"
      ],
      "metadata": {
        "id": "DDVBdZGIV-Ci"
      },
      "execution_count": null,
      "outputs": []
    },
    {
      "cell_type": "code",
      "source": [
        "poisson1 = sp.poisson(5).rvs(1000)\n",
        "poisson2 = sp.poisson(50).rvs(1000)"
      ],
      "metadata": {
        "id": "xtaWe9vhWD8b"
      },
      "execution_count": null,
      "outputs": []
    },
    {
      "cell_type": "code",
      "source": [
        "import matplotlib.pyplot as plt\n",
        "fig, (ax1, ax2) = plt.subplots(1, 2, constrained_layout=True)\n",
        "fig.suptitle('Sampling from poisson distribution')\n",
        "ax1.hist(poisson1, bins=10)\n",
        "ax1.set_title(\"Expectation of interval: 5\")\n",
        "ax2.hist(poisson2, bins=10)\n",
        "ax2.set_title(\"Expectation of interval: 50\");"
      ],
      "metadata": {
        "id": "_ffGzzbiqBwb",
        "colab": {
          "base_uri": "https://localhost:8080/",
          "height": 508
        },
        "outputId": "aaeecdfe-9d84-4674-a946-70e7011c6657"
      },
      "execution_count": null,
      "outputs": [
        {
          "output_type": "display_data",
          "data": {
            "text/plain": [
              "<Figure size 640x480 with 2 Axes>"
            ],
            "image/png": "[encoded data removed]"
          },
          "metadata": {}
        }
      ]
    },
    {
      "cell_type": "code",
      "source": [
        "import numpy as np\n",
        "# Sample data\n",
        "data = np.array([10, 20, 30, 40, 50, 20, 30, 40, 60])\n",
        "# Mean\n",
        "mean = np.mean(data)\n",
        "print(\"Mean:\", mean)\n",
        "# Median\n",
        "median = np.median(data)\n",
        "print(\"Median:\", median)\n",
        "# Mode\n",
        "mode = np.argmax(np.bincount(data))\n",
        "print(\"Mode:\", mode)"
      ],
      "metadata": {
        "colab": {
          "base_uri": "https://localhost:8080/"
        },
        "id": "DKfq-wjSZWoz",
        "outputId": "ae0ec52c-2dc7-43da-9a4e-f82bfa1e7f10"
      },
      "execution_count": null,
      "outputs": [
        {
          "output_type": "stream",
          "name": "stdout",
          "text": [
            "Mean: 33.333333333333336\n",
            "Median: 30.0\n",
            "Mode: 20\n"
          ]
        }
      ]
    },
    {
      "cell_type": "markdown",
      "source": [
        "## **5-8-Measures of dispersion**"
      ],
      "metadata": {
        "id": "Yyu6Oe7QaSuZ"
      }
    },
    {
      "cell_type": "code",
      "source": [
        "rand_matrix = np.random.rand(5,5)\n",
        "print(f\"Pearson product-moment correlation coefficient:\\n{np.corrcoef(poisson1,poisson2)}\\n\")\n",
        "print(f\"Cross-correlation coefficient:\\n{np.correlate(poisson1,poisson2)}\\n\")\n",
        "print(f\"Covariance matrix coefficients:\\n{np.cov(poisson1,poisson2)}\\n\")\n",
        "print(f\"Pearson product-moment correlation coefficient:\\n{np.corrcoef(rand_matrix)}\\n\")\n",
        "print(f\"Covariance matrix coefficients:\\n{np.cov(rand_matrix)}\")"
      ],
      "metadata": {
        "id": "1tB7ju9Gvgtw",
        "outputId": "073421fa-93e8-4e1b-8669-0634722facbb",
        "colab": {
          "base_uri": "https://localhost:8080/"
        }
      },
      "execution_count": null,
      "outputs": [
        {
          "output_type": "stream",
          "name": "stdout",
          "text": [
            "Pearson product-moment correlation coefficient:\n",
            "[[1.         0.02471646]\n",
            " [0.02471646 1.        ]]\n",
            "\n",
            "Cross-correlation coefficient:\n",
            "[196340]\n",
            "\n",
            "Covariance matrix coefficients:\n",
            "[[ 4.02855255  0.35443443]\n",
            " [ 0.35443443 51.04464464]]\n",
            "\n",
            "Pearson product-moment correlation coefficient:\n",
            "[[ 1.          0.504974   -0.54775987 -0.77002384  0.65395575]\n",
            " [ 0.504974    1.         -0.06140124  0.04098833  0.49868676]\n",
            " [-0.54775987 -0.06140124  1.          0.82810519 -0.61496475]\n",
            " [-0.77002384  0.04098833  0.82810519  1.         -0.65675892]\n",
            " [ 0.65395575  0.49868676 -0.61496475 -0.65675892  1.        ]]\n",
            "\n",
            "Covariance matrix coefficients:\n",
            "[[ 0.01566542  0.02304319 -0.01449566 -0.02600132  0.02909508]\n",
            " [ 0.02304319  0.13292455 -0.00473322  0.00403165  0.06462947]\n",
            " [-0.01449566 -0.00473322  0.04470474  0.04723702 -0.0462197 ]\n",
            " [-0.02600132  0.00403165  0.04723702  0.07278476 -0.06298344]\n",
            " [ 0.02909508  0.06462947 -0.0462197  -0.06298344  0.12635729]]\n"
          ]
        }
      ]
    },
    {
      "cell_type": "markdown",
      "source": [
        "## **7-9-Histograms**"
      ],
      "metadata": {
        "id": "N9AxjVUIvxvd"
      }
    },
    {
      "cell_type": "code",
      "source": [
        "import numpy as np\n",
        "import matplotlib.pyplot as plt\n",
        "\n",
        "# Generate random data\n",
        "np.random.seed(0)  # For reproducibility\n",
        "data = np.random.normal(loc=0, scale=1, size=1000)  # Generate 1000 random numbers from a normal distribution\n",
        "\n",
        "# Create histogram\n",
        "plt.hist(data, bins=30, color='blue', edgecolor='black', alpha=0.7)\n",
        "plt.title('Histogram of Random Data')\n",
        "plt.xlabel('Value')\n",
        "plt.ylabel('Frequency')\n",
        "plt.grid(True)\n",
        "plt.show()"
      ],
      "metadata": {
        "id": "pzB4jFPrxN-1",
        "outputId": "0ed28372-5f2e-4f3f-ebdb-cb5b76525570",
        "colab": {
          "base_uri": "https://localhost:8080/",
          "height": 472
        }
      },
      "execution_count": null,
      "outputs": [
        {
          "output_type": "display_data",
          "data": {
            "text/plain": [
              "<Figure size 640x480 with 1 Axes>"
            ],
            "image/png": "[encoded data removed]"
          },
          "metadata": {}
        }
      ]
    },
    {
      "cell_type": "code",
      "source": [
        "chisquare1 = rg.chisquare(5,1000)"
      ],
      "metadata": {
        "id": "ZXmUx7-hwUL0",
        "outputId": "39ac7729-59df-448e-d29f-eec6f18f7656",
        "colab": {
          "base_uri": "https://localhost:8080/",
          "height": 339
        }
      },
      "execution_count": null,
      "outputs": [
        {
          "output_type": "error",
          "ename": "ValueError",
          "evalue": "For each axis slice, the sum of the observed frequencies must agree with the sum of the expected frequencies to a relative tolerance of 1e-08, but the percent differences are:\n199.0",
          "traceback": [
            "\u001b[0;31m---------------------------------------------------------------------------\u001b[0m",
            "\u001b[0;31mValueError\u001b[0m                                Traceback (most recent call last)",
            "\u001b[0;32m<ipython-input-25-3b2f424fd326>\u001b[0m in \u001b[0;36m<cell line: 1>\u001b[0;34m()\u001b[0m\n\u001b[0;32m----> 1\u001b[0;31m \u001b[0mchisquare1\u001b[0m \u001b[0;34m=\u001b[0m \u001b[0mrg\u001b[0m\u001b[0;34m.\u001b[0m\u001b[0mchisquare\u001b[0m\u001b[0;34m(\u001b[0m\u001b[0;36m5\u001b[0m\u001b[0;34m,\u001b[0m\u001b[0;36m1000\u001b[0m\u001b[0;34m)\u001b[0m\u001b[0;34m\u001b[0m\u001b[0;34m\u001b[0m\u001b[0m\n\u001b[0m",
            "\u001b[0;32m/usr/local/lib/python3.10/dist-packages/scipy/stats/_stats_py.py\u001b[0m in \u001b[0;36mchisquare\u001b[0;34m(f_obs, f_exp, ddof, axis)\u001b[0m\n\u001b[1;32m   8252\u001b[0m \u001b[0;34m\u001b[0m\u001b[0m\n\u001b[1;32m   8253\u001b[0m     \"\"\"  # noqa\n\u001b[0;32m-> 8254\u001b[0;31m     return power_divergence(f_obs, f_exp=f_exp, ddof=ddof, axis=axis,\n\u001b[0m\u001b[1;32m   8255\u001b[0m                             lambda_=\"pearson\")\n\u001b[1;32m   8256\u001b[0m \u001b[0;34m\u001b[0m\u001b[0m\n",
            "\u001b[0;32m/usr/local/lib/python3.10/dist-packages/scipy/stats/_stats_py.py\u001b[0m in \u001b[0;36mpower_divergence\u001b[0;34m(f_obs, f_exp, ddof, axis, lambda_)\u001b[0m\n\u001b[1;32m   8049\u001b[0m                    \u001b[0;34mf\"of {rtol}, but the percent differences are:\\n\"\u001b[0m\u001b[0;34m\u001b[0m\u001b[0;34m\u001b[0m\u001b[0m\n\u001b[1;32m   8050\u001b[0m                    f\"{relative_diff}\")\n\u001b[0;32m-> 8051\u001b[0;31m             \u001b[0;32mraise\u001b[0m \u001b[0mValueError\u001b[0m\u001b[0;34m(\u001b[0m\u001b[0mmsg\u001b[0m\u001b[0;34m)\u001b[0m\u001b[0;34m\u001b[0m\u001b[0;34m\u001b[0m\u001b[0m\n\u001b[0m\u001b[1;32m   8052\u001b[0m \u001b[0;34m\u001b[0m\u001b[0m\n\u001b[1;32m   8053\u001b[0m     \u001b[0;32melse\u001b[0m\u001b[0;34m:\u001b[0m\u001b[0;34m\u001b[0m\u001b[0;34m\u001b[0m\u001b[0m\n",
            "\u001b[0;31mValueError\u001b[0m: For each axis slice, the sum of the observed frequencies must agree with the sum of the expected frequencies to a relative tolerance of 1e-08, but the percent differences are:\n199.0"
          ]
        }
      ]
    },
    {
      "cell_type": "markdown",
      "source": [
        "## **Universal Functions**"
      ],
      "metadata": {
        "id": "sEiIJgEopSCp"
      }
    },
    {
      "cell_type": "markdown",
      "source": [
        "NumPy provides familiar mathematical functions such as sin, cos, and exp. In NumPy, these are called “universal functions” (ufunc). Within NumPy, these functions operate elementwise on an array, producing an array as output."
      ],
      "metadata": {
        "id": "L3uchx6EpWff"
      }
    },
    {
      "cell_type": "code",
      "source": [
        "B = np.arange(3)\n",
        "print(B)\n",
        "print(np.exp(B))\n",
        "print(np.sqrt(B))\n",
        "C = np.array([2., -1., 4.])\n",
        "print(np.add(B, C))\n"
      ],
      "metadata": {
        "id": "jnjIg_gjpTOt"
      },
      "execution_count": null,
      "outputs": []
    },
    {
      "cell_type": "markdown",
      "source": [
        "### **Trigonometric functions**"
      ],
      "metadata": {
        "id": "BHniR_53R_FY"
      }
    },
    {
      "cell_type": "code",
      "source": [
        "import numpy as np\n",
        "x = np.linspace(-4, 4, 200)\n",
        "\n",
        "# sin function\n",
        "sin = np.sin(x)\n",
        "# cosine function\n",
        "cos = np.cos(x)\n",
        "# tangent function\n",
        "tan = np.tan(x)"
      ],
      "metadata": {
        "id": "HEJ_QyFgSGgx"
      },
      "execution_count": null,
      "outputs": []
    },
    {
      "cell_type": "code",
      "source": [
        "import matplotlib.pylab as plt\n",
        "plt.style.use('dark_background')\n",
        "%config InlineBackend.figure_format = 'retina' # to get high resolution images"
      ],
      "metadata": {
        "id": "H354vn9aSJ4J"
      },
      "execution_count": null,
      "outputs": []
    },
    {
      "cell_type": "code",
      "source": [
        "fig, (ax1, ax2, ax3) = plt.subplots(3, 1)\n",
        "ax1.plot(x, sin)\n",
        "ax1.set_title(\"sin\")\n",
        "ax2.plot(x, cos)\n",
        "ax2.set_title(\"cos\")\n",
        "ax3.plot(x, tan)\n",
        "ax3.set_title(\"tan\")\n",
        "plt.tight_layout()"
      ],
      "metadata": {
        "id": "xCPEWcr4SM8h"
      },
      "execution_count": null,
      "outputs": []
    },
    {
      "cell_type": "markdown",
      "source": [
        "### **Hyperbolic functions**"
      ],
      "metadata": {
        "id": "HdVbj7D8Sang"
      }
    },
    {
      "cell_type": "code",
      "source": [
        "y = np.linspace(-4, 4, 200)\n",
        "\n",
        "# sin function\n",
        "sinh = np.sinh(y)\n",
        "# cosine function\n",
        "cosh = np.cosh(y)\n",
        "# tangent function\n",
        "tanh = np.tanh(y)"
      ],
      "metadata": {
        "id": "TlyJcTDPSnqw"
      },
      "execution_count": null,
      "outputs": []
    },
    {
      "cell_type": "code",
      "source": [
        "fig, (ax1, ax2, ax3) = plt.subplots(3, 1)\n",
        "ax1.plot(y, sin)\n",
        "ax1.set_title(\"sinh\")\n",
        "ax2.plot(y, cos)\n",
        "ax2.set_title(\"cosh\")\n",
        "ax3.plot(y, tan)\n",
        "ax3.set_title(\"tanh\")\n",
        "plt.tight_layout()"
      ],
      "metadata": {
        "colab": {
          "base_uri": "https://localhost:8080/",
          "height": 296
        },
        "id": "zE56HoV-SrNZ",
        "outputId": "13b595d9-5fe2-4847-842f-0958d4711b86"
      },
      "execution_count": null,
      "outputs": [
        {
          "output_type": "display_data",
          "data": {
            "text/plain": [
              "<Figure size 432x288 with 3 Axes>"
            ],
            "image/png": "[encoded data removed]"
          },
          "metadata": {
            "image/png": {
              "width": 424,
              "height": 279
            }
          }
        }
      ]
    },
    {
      "cell_type": "markdown",
      "source": [
        "### **Rounding**"
      ],
      "metadata": {
        "id": "bjEqeR_3pn6J"
      }
    },
    {
      "cell_type": "code",
      "source": [
        "decimals = np.linspace(0.11111111, 0.99999999, 10)\n",
        "\n",
        "# rounding\n",
        "around = np.around(decimals, 3)\n",
        "# rounding\n",
        "round_ = np.round(decimals, 3)\n",
        "# rounding to integer\n",
        "rint = np.rint(decimals)\n",
        "# rounding integer towards zero\n",
        "fix = np.fix(decimals)\n",
        "# round to the floor\n",
        "floor = np.floor(decimals)\n",
        "# round to the ceiling\n",
        "ceil = np.ceil(decimals)"
      ],
      "metadata": {
        "id": "uzaTBpVSpuGS"
      },
      "execution_count": null,
      "outputs": []
    },
    {
      "cell_type": "code",
      "source": [
        "print(f\"Array of decimals:\\n{decimals}\\n\")\n",
        "print(f\"'around' round to the given number of decimals:\\n{around}\\n\")\n",
        "print(f\"'round' yields identical results than 'around':\\n{round_}\\n\")\n",
        "print(f\"'rint' round to the nearest integer:\\n{rint}\\n\")\n",
        "print(f\"'fix' round to the nearest integer towars zero:\\n{fix}\\n\")\n",
        "print(f\"'floor' round to the floor of the input:\\n{floor}\\n\")\n",
        "print(f\"'ceil' round to the ceiling of the input:\\n{ceil}\")"
      ],
      "metadata": {
        "id": "-3b6uzyLp1Lx"
      },
      "execution_count": null,
      "outputs": []
    },
    {
      "cell_type": "markdown",
      "source": [
        "### **Exponents and logarithms**\n"
      ],
      "metadata": {
        "id": "6NY03FWyrwmO"
      }
    },
    {
      "cell_type": "code",
      "source": [
        "z = np.array([0.1, 1, np.e, np.pi])\n",
        "\n",
        "# exponent\n",
        "exp = np.exp(z)\n",
        "# exponent(x) -1\n",
        "expm1 = np.expm1(z)\n",
        "# 2^P\n",
        "exp2 = np.exp2(z)\n",
        "# natural log\n",
        "log = np.log(z)\n",
        "# log base 10\n",
        "log10 = np.log10(z)\n",
        "# log base 2\n",
        "log2 = np.log2(z)"
      ],
      "metadata": {
        "id": "RPVbw-KWr2BH"
      },
      "execution_count": null,
      "outputs": []
    },
    {
      "cell_type": "code",
      "source": [
        "print(f'Compute exponential element-wise:\\n{exp}\\n')\n",
        "print(f\"Compute 'exp(x) - 1' with greater precision for small values:\\n{expm1}\\n\")\n",
        "print(f\"Compute '2**p' for all elements p in the array:\\n{exp2}\\n\")\n",
        "print(f'Compute natural logarithm element-wise:\\n{log}\\n')\n",
        "print(f'Compute base 10 logarithm element-wise:\\n{log10}\\n')\n",
        "print(f'Compute base 2 logarithm element-wise:\\n{log2}\\n')"
      ],
      "metadata": {
        "id": "xEs7NsDHr7pW"
      },
      "execution_count": null,
      "outputs": []
    },
    {
      "cell_type": "markdown",
      "source": [
        "# Indexing, Slicing and Iterating"
      ],
      "metadata": {
        "id": "akjQC01bp-Bw"
      }
    },
    {
      "cell_type": "markdown",
      "source": [
        "One-dimensional arrays can be indexed, sliced and iterated over, much like lists and other Python sequences"
      ],
      "metadata": {
        "id": "XXCuukCTqIHr"
      }
    },
    {
      "cell_type": "code",
      "source": [
        "a = np.arange(10)**3 # create 10 elements and multiply 3 times with itself"
      ],
      "metadata": {
        "id": "Rm_hn2BDqBI_"
      },
      "execution_count": null,
      "outputs": []
    },
    {
      "cell_type": "code",
      "source": [
        "a"
      ],
      "metadata": {
        "colab": {
          "base_uri": "https://localhost:8080/"
        },
        "id": "0RlJsuLHqLxR",
        "outputId": "e1d42c75-8298-433d-8e75-607007c3f00d"
      },
      "execution_count": null,
      "outputs": [
        {
          "output_type": "execute_result",
          "data": {
            "text/plain": [
              "array([  0,   1,   8,  27,  64, 125, 216, 343, 512, 729])"
            ]
          },
          "metadata": {},
          "execution_count": 52
        }
      ]
    },
    {
      "cell_type": "code",
      "source": [
        "a[2:5] # this will print the elements from 2 to 5-1"
      ],
      "metadata": {
        "colab": {
          "base_uri": "https://localhost:8080/"
        },
        "id": "nY_sVc8_qMf3",
        "outputId": "624c78aa-6559-4a2c-992a-1158ae2ef35b"
      },
      "execution_count": null,
      "outputs": [
        {
          "output_type": "execute_result",
          "data": {
            "text/plain": [
              "array([ 8, 27, 64])"
            ]
          },
          "metadata": {},
          "execution_count": 54
        }
      ]
    },
    {
      "cell_type": "code",
      "source": [
        "a[:6:2] = 1000 # store the value 1000 from 0 to 6 with jumps of 2\n",
        "a\n"
      ],
      "metadata": {
        "colab": {
          "base_uri": "https://localhost:8080/"
        },
        "id": "jTqfEiZrqPYv",
        "outputId": "fb3c7005-a123-43e5-d9ec-f4c5afeae280"
      },
      "execution_count": null,
      "outputs": [
        {
          "output_type": "execute_result",
          "data": {
            "text/plain": [
              "array([1000,    1, 1000,   27, 1000,  125,  216,  343,  512,  729])"
            ]
          },
          "metadata": {},
          "execution_count": 57
        }
      ]
    },
    {
      "cell_type": "code",
      "source": [
        "a[::-1] # Reverse the array a"
      ],
      "metadata": {
        "colab": {
          "base_uri": "https://localhost:8080/"
        },
        "id": "c1y5GiDAqrzw",
        "outputId": "52597f1b-77a1-4e7a-ae1b-15d13b118023"
      },
      "execution_count": null,
      "outputs": [
        {
          "output_type": "execute_result",
          "data": {
            "text/plain": [
              "array([ 729,  512,  343,  216,  125, 1000,   27, 1000,    1, 1000])"
            ]
          },
          "metadata": {},
          "execution_count": 58
        }
      ]
    },
    {
      "cell_type": "code",
      "source": [
        "a"
      ],
      "metadata": {
        "colab": {
          "base_uri": "https://localhost:8080/"
        },
        "id": "o8XsZa1trAXx",
        "outputId": "78559797-594b-495a-dc1e-e67182567cb2"
      },
      "execution_count": null,
      "outputs": [
        {
          "output_type": "execute_result",
          "data": {
            "text/plain": [
              "array([1000,    1, 1000,   27, 1000,  125,  216,  343,  512,  729])"
            ]
          },
          "metadata": {},
          "execution_count": 59
        }
      ]
    },
    {
      "cell_type": "code",
      "source": [],
      "metadata": {
        "id": "1P8KW0SHrBqQ"
      },
      "execution_count": null,
      "outputs": []
    },
    {
      "cell_type": "markdown",
      "source": [
        "# Iterating over multidimensional arrays"
      ],
      "metadata": {
        "id": "77PY9AO_sAYq"
      }
    },
    {
      "cell_type": "code",
      "source": [
        "arr = np.arange(24).reshape(2,3,4)\n",
        "arr"
      ],
      "metadata": {
        "colab": {
          "base_uri": "https://localhost:8080/"
        },
        "id": "KKKycTxhsB33",
        "outputId": "730f75ea-9360-4c30-f3e9-3cb329ff41a4"
      },
      "execution_count": null,
      "outputs": [
        {
          "output_type": "execute_result",
          "data": {
            "text/plain": [
              "array([[[ 0,  1,  2,  3],\n",
              "        [ 4,  5,  6,  7],\n",
              "        [ 8,  9, 10, 11]],\n",
              "\n",
              "       [[12, 13, 14, 15],\n",
              "        [16, 17, 18, 19],\n",
              "        [20, 21, 22, 23]]])"
            ]
          },
          "metadata": {},
          "execution_count": 61
        }
      ]
    },
    {
      "cell_type": "code",
      "source": [
        "for row in arr:\n",
        "    print(row)"
      ],
      "metadata": {
        "colab": {
          "base_uri": "https://localhost:8080/"
        },
        "id": "t2tang7hsa3J",
        "outputId": "32bf4640-b8a6-49c6-d583-a5771729a82d"
      },
      "execution_count": null,
      "outputs": [
        {
          "output_type": "stream",
          "name": "stdout",
          "text": [
            "[[ 0  1  2  3]\n",
            " [ 4  5  6  7]\n",
            " [ 8  9 10 11]]\n",
            "[[12 13 14 15]\n",
            " [16 17 18 19]\n",
            " [20 21 22 23]]\n"
          ]
        }
      ]
    },
    {
      "cell_type": "code",
      "source": [
        "for row in arr:\n",
        "  for ro in row:\n",
        "    print(ro)"
      ],
      "metadata": {
        "colab": {
          "base_uri": "https://localhost:8080/"
        },
        "id": "Px6nqp6gsgro",
        "outputId": "43e887d4-c004-4565-b42c-8d05fe4b8565"
      },
      "execution_count": null,
      "outputs": [
        {
          "output_type": "stream",
          "name": "stdout",
          "text": [
            "[0 1 2 3]\n",
            "[4 5 6 7]\n",
            "[ 8  9 10 11]\n",
            "[12 13 14 15]\n",
            "[16 17 18 19]\n",
            "[20 21 22 23]\n"
          ]
        }
      ]
    },
    {
      "cell_type": "code",
      "source": [
        "for ele in arr.flat:\n",
        "  print(ele)"
      ],
      "metadata": {
        "colab": {
          "base_uri": "https://localhost:8080/"
        },
        "id": "-L6vLOapsqvZ",
        "outputId": "df91a3d7-fa09-4643-dc65-4633c3e99f4a"
      },
      "execution_count": null,
      "outputs": [
        {
          "output_type": "stream",
          "name": "stdout",
          "text": [
            "0\n",
            "1\n",
            "2\n",
            "3\n",
            "4\n",
            "5\n",
            "6\n",
            "7\n",
            "8\n",
            "9\n",
            "10\n",
            "11\n",
            "12\n",
            "13\n",
            "14\n",
            "15\n",
            "16\n",
            "17\n",
            "18\n",
            "19\n",
            "20\n",
            "21\n",
            "22\n",
            "23\n"
          ]
        }
      ]
    },
    {
      "cell_type": "markdown",
      "source": [
        "# Copies and Views"
      ],
      "metadata": {
        "id": "pXtKcyg-67WJ"
      }
    },
    {
      "cell_type": "markdown",
      "source": [
        "**No Copy at All**\n",
        "Simple assignments make no copy of objects or their data\n"
      ],
      "metadata": {
        "id": "c2gQBvP67Gf_"
      }
    },
    {
      "cell_type": "code",
      "source": [
        "a = np.array([[ 0, 1, 2, 3],\n",
        "[ 4, 5, 6, 7],[ 8, 9, 10, 11]])"
      ],
      "metadata": {
        "id": "gxH5G_mzxCcu"
      },
      "execution_count": null,
      "outputs": []
    },
    {
      "cell_type": "code",
      "source": [
        "a"
      ],
      "metadata": {
        "colab": {
          "base_uri": "https://localhost:8080/"
        },
        "id": "bpCrdFTv6h7r",
        "outputId": "8102b035-3f7f-4a8a-cb7e-af3ec3542335"
      },
      "execution_count": null,
      "outputs": [
        {
          "output_type": "execute_result",
          "data": {
            "text/plain": [
              "array([[ 0,  1,  2,  3],\n",
              "       [ 4,  5,  6,  7],\n",
              "       [ 8,  9, 10, 11]])"
            ]
          },
          "metadata": {},
          "execution_count": 71
        }
      ]
    },
    {
      "cell_type": "code",
      "source": [
        "b = a # No Copy at all but pointing to the same addsress\n",
        "b"
      ],
      "metadata": {
        "colab": {
          "base_uri": "https://localhost:8080/"
        },
        "id": "XLrhEASW7SKL",
        "outputId": "818b137d-f951-4182-ec2d-bcf128d29bf3"
      },
      "execution_count": null,
      "outputs": [
        {
          "output_type": "execute_result",
          "data": {
            "text/plain": [
              "array([[ 0,  1,  2,  3],\n",
              "       [ 4,  5,  6,  7],\n",
              "       [ 8,  9, 10, 11]])"
            ]
          },
          "metadata": {},
          "execution_count": 75
        }
      ]
    },
    {
      "cell_type": "code",
      "source": [
        "b is a"
      ],
      "metadata": {
        "colab": {
          "base_uri": "https://localhost:8080/"
        },
        "id": "0kkgRIqm7UcE",
        "outputId": "3dab01aa-4230-42ee-f33c-e4aaef940db6"
      },
      "execution_count": null,
      "outputs": [
        {
          "output_type": "execute_result",
          "data": {
            "text/plain": [
              "True"
            ]
          },
          "metadata": {},
          "execution_count": 73
        }
      ]
    },
    {
      "cell_type": "code",
      "source": [
        "a is b"
      ],
      "metadata": {
        "colab": {
          "base_uri": "https://localhost:8080/"
        },
        "id": "fjj-U-zp7cQi",
        "outputId": "416e84f8-2c7b-423b-abec-b3b5d7675262"
      },
      "execution_count": null,
      "outputs": [
        {
          "output_type": "execute_result",
          "data": {
            "text/plain": [
              "True"
            ]
          },
          "metadata": {},
          "execution_count": 74
        }
      ]
    },
    {
      "cell_type": "markdown",
      "source": [
        "####**View or Shallow Copy**\n"
      ],
      "metadata": {
        "id": "qaV7hOa67rnN"
      }
    },
    {
      "cell_type": "code",
      "source": [
        "c = a.view()"
      ],
      "metadata": {
        "id": "Nr7Dj6yr7dKS"
      },
      "execution_count": null,
      "outputs": []
    },
    {
      "cell_type": "code",
      "source": [
        "c"
      ],
      "metadata": {
        "colab": {
          "base_uri": "https://localhost:8080/"
        },
        "id": "KIWzInyF7zQS",
        "outputId": "d27d60c4-c5e0-420e-c735-07107f4192d5"
      },
      "execution_count": null,
      "outputs": [
        {
          "output_type": "execute_result",
          "data": {
            "text/plain": [
              "array([[ 0,  1,  2,  3],\n",
              "       [ 4,  5,  6,  7],\n",
              "       [ 8,  9, 10, 11]])"
            ]
          },
          "metadata": {},
          "execution_count": 77
        }
      ]
    },
    {
      "cell_type": "code",
      "source": [
        "c is a # will be false b/c c is not a but a shallow copy of it"
      ],
      "metadata": {
        "colab": {
          "base_uri": "https://localhost:8080/"
        },
        "id": "6iwwiqGf70r6",
        "outputId": "cede99fe-8c8f-40cb-c326-dcad3fa34b3d"
      },
      "execution_count": null,
      "outputs": [
        {
          "output_type": "execute_result",
          "data": {
            "text/plain": [
              "False"
            ]
          },
          "metadata": {},
          "execution_count": 79
        }
      ]
    },
    {
      "cell_type": "code",
      "source": [
        "c.flags.owndata # will be false b/c c copied data from a"
      ],
      "metadata": {
        "colab": {
          "base_uri": "https://localhost:8080/"
        },
        "id": "HjVKF9pl72HS",
        "outputId": "493c0cfb-af8c-41c1-ac99-893928b35395"
      },
      "execution_count": null,
      "outputs": [
        {
          "output_type": "execute_result",
          "data": {
            "text/plain": [
              "False"
            ]
          },
          "metadata": {},
          "execution_count": 81
        }
      ]
    },
    {
      "cell_type": "code",
      "source": [
        "c = c.reshape((2, 6)) # c matrix data will be changed after executing this cell but Matrix a will remain the same"
      ],
      "metadata": {
        "id": "RVv1TfiY8EDy"
      },
      "execution_count": null,
      "outputs": []
    },
    {
      "cell_type": "code",
      "source": [
        "c"
      ],
      "metadata": {
        "colab": {
          "base_uri": "https://localhost:8080/"
        },
        "id": "XqxQ609J8NRa",
        "outputId": "198b679b-bd22-4de2-c70b-6f239a13a8b8"
      },
      "execution_count": null,
      "outputs": [
        {
          "output_type": "execute_result",
          "data": {
            "text/plain": [
              "array([[ 0,  1,  2,  3,  4,  5],\n",
              "       [ 6,  7,  8,  9, 10, 11]])"
            ]
          },
          "metadata": {},
          "execution_count": 83
        }
      ]
    },
    {
      "cell_type": "code",
      "source": [
        "a # a will be 3 x 4"
      ],
      "metadata": {
        "colab": {
          "base_uri": "https://localhost:8080/"
        },
        "id": "InRw7TWb8OFK",
        "outputId": "0a7dd677-8b61-4d4f-8349-b4b1db30187d"
      },
      "execution_count": null,
      "outputs": [
        {
          "output_type": "execute_result",
          "data": {
            "text/plain": [
              "array([[ 0,  1,  2,  3],\n",
              "       [ 4,  5,  6,  7],\n",
              "       [ 8,  9, 10, 11]])"
            ]
          },
          "metadata": {},
          "execution_count": 86
        }
      ]
    },
    {
      "cell_type": "markdown",
      "source": [
        "####**Deep Copy**"
      ],
      "metadata": {
        "id": "Jv7ePAIg8nzd"
      }
    },
    {
      "cell_type": "markdown",
      "source": [
        "The copy method makes a complete copy of the array and its data."
      ],
      "metadata": {
        "id": "75k-vLTd8usc"
      }
    },
    {
      "cell_type": "code",
      "source": [
        "d = a.copy() # a new array object with new data is created"
      ],
      "metadata": {
        "id": "iPAJuI5D8q01"
      },
      "execution_count": null,
      "outputs": []
    },
    {
      "cell_type": "code",
      "source": [
        "d"
      ],
      "metadata": {
        "colab": {
          "base_uri": "https://localhost:8080/"
        },
        "id": "RgQj7dDa9ITq",
        "outputId": "b2d3696c-3070-4cec-9475-fdd438f3fdf4"
      },
      "execution_count": null,
      "outputs": [
        {
          "output_type": "execute_result",
          "data": {
            "text/plain": [
              "array([[ 0,  1,  2,  3],\n",
              "       [ 4,  5,  6,  7],\n",
              "       [ 8,  9, 10, 11]])"
            ]
          },
          "metadata": {},
          "execution_count": 88
        }
      ]
    },
    {
      "cell_type": "code",
      "source": [
        "d is a # will be false b/c d is stand alone matrix now"
      ],
      "metadata": {
        "colab": {
          "base_uri": "https://localhost:8080/"
        },
        "id": "_szLPQx39JU3",
        "outputId": "07eea849-61e8-4cc7-edad-899c4e029a02"
      },
      "execution_count": null,
      "outputs": [
        {
          "output_type": "execute_result",
          "data": {
            "text/plain": [
              "False"
            ]
          },
          "metadata": {},
          "execution_count": 90
        }
      ]
    },
    {
      "cell_type": "code",
      "source": [
        "d is c # will be false b/c c is another matrix of a which is shallow copy"
      ],
      "metadata": {
        "colab": {
          "base_uri": "https://localhost:8080/"
        },
        "id": "6yqyYV5D9K8_",
        "outputId": "7cc235a4-5198-4517-b48c-48b47a529705"
      },
      "execution_count": null,
      "outputs": [
        {
          "output_type": "execute_result",
          "data": {
            "text/plain": [
              "False"
            ]
          },
          "metadata": {},
          "execution_count": 92
        }
      ]
    },
    {
      "cell_type": "code",
      "source": [
        "d[1:2] = 100\n",
        "d"
      ],
      "metadata": {
        "colab": {
          "base_uri": "https://localhost:8080/"
        },
        "id": "tCR5FGlD9SRA",
        "outputId": "1d61bb9c-bec5-4a33-f22e-47bb112147c1"
      },
      "execution_count": null,
      "outputs": [
        {
          "output_type": "execute_result",
          "data": {
            "text/plain": [
              "array([[  0,   1,   2,   3],\n",
              "       [100, 100, 100, 100],\n",
              "       [  8,   9,  10,  11]])"
            ]
          },
          "metadata": {},
          "execution_count": 94
        }
      ]
    },
    {
      "cell_type": "code",
      "source": [],
      "metadata": {
        "id": "1kMUsG-s9hGw"
      },
      "execution_count": null,
      "outputs": []
    },
    {
      "cell_type": "markdown",
      "source": [
        "# Functions and Methods Overview"
      ],
      "metadata": {
        "id": "Nyba22my9srh"
      }
    }
  ]
}